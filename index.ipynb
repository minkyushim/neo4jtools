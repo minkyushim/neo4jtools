{
 "cells": [
  {
   "cell_type": "code",
   "execution_count": null,
   "metadata": {},
   "outputs": [],
   "source": [
    "#hide\n",
    "from neo4jtools import *"
   ]
  },
  {
   "cell_type": "markdown",
   "metadata": {},
   "source": [
    "# Very simple Neo4j HTTP API Client"
   ]
  },
  {
   "cell_type": "markdown",
   "metadata": {},
   "source": [
    "## Install"
   ]
  },
  {
   "cell_type": "markdown",
   "metadata": {},
   "source": [
    "`pip install git+https://github.com/minkyushim/neo4jtools.git`"
   ]
  },
  {
   "cell_type": "markdown",
   "metadata": {},
   "source": [
    "## How to use"
   ]
  },
  {
   "cell_type": "code",
   "execution_count": null,
   "metadata": {},
   "outputs": [
    {
     "data": {
      "text/plain": [
       "{\"classname\": \"SimpleNeo4jHTTPAPIClient\", \"url\": \"http://localhost:7474\", \"neo4j_version\": \"4.4.3\", \"neo4j_edition\": \"community\", \"db\": \"neo4j\", \"auth\": true}"
      ]
     },
     "execution_count": null,
     "metadata": {},
     "output_type": "execute_result"
    }
   ],
   "source": [
    "client=SimpleNeo4jHTTPAPIClient(url='http://localhost:7474', userid='neo4j', passwd='test')\n",
    "client"
   ]
  },
  {
   "cell_type": "markdown",
   "metadata": {},
   "source": [
    "## Execute a simple query"
   ]
  },
  {
   "cell_type": "code",
   "execution_count": null,
   "metadata": {},
   "outputs": [
    {
     "data": {
      "text/plain": [
       "{'results': [{'columns': ['count(n)'],\n",
       "   'data': [{'row': [85852],\n",
       "     'meta': [None],\n",
       "     'graph': {'nodes': [], 'relationships': []}}]}],\n",
       " 'errors': []}"
      ]
     },
     "execution_count": null,
     "metadata": {},
     "output_type": "execute_result"
    }
   ],
   "source": [
    "client.execute_read_query('match (n) return count(n);')"
   ]
  },
  {
   "cell_type": "markdown",
   "metadata": {},
   "source": [
    "## Execute a query and return a tabular-type result"
   ]
  },
  {
   "cell_type": "code",
   "execution_count": null,
   "metadata": {},
   "outputs": [
    {
     "data": {
      "text/html": [
       "<div>\n",
       "<style scoped>\n",
       "    .dataframe tbody tr th:only-of-type {\n",
       "        vertical-align: middle;\n",
       "    }\n",
       "\n",
       "    .dataframe tbody tr th {\n",
       "        vertical-align: top;\n",
       "    }\n",
       "\n",
       "    .dataframe thead th {\n",
       "        text-align: right;\n",
       "    }\n",
       "</style>\n",
       "<table border=\"1\" class=\"dataframe\">\n",
       "  <thead>\n",
       "    <tr style=\"text-align: right;\">\n",
       "      <th></th>\n",
       "      <th>n.identifier</th>\n",
       "      <th>n.name</th>\n",
       "      <th>type(r)</th>\n",
       "      <th>m.identifier</th>\n",
       "      <th>m.name</th>\n",
       "    </tr>\n",
       "  </thead>\n",
       "  <tbody>\n",
       "    <tr>\n",
       "      <th>0</th>\n",
       "      <td>GO:0000002</td>\n",
       "      <td>mitochondrial genome maintenance</td>\n",
       "      <td>PARTICIPATES_GpBP</td>\n",
       "      <td>4358</td>\n",
       "      <td>MPV17</td>\n",
       "    </tr>\n",
       "    <tr>\n",
       "      <th>1</th>\n",
       "      <td>GO:0000002</td>\n",
       "      <td>mitochondrial genome maintenance</td>\n",
       "      <td>PARTICIPATES_GpBP</td>\n",
       "      <td>291</td>\n",
       "      <td>SLC25A4</td>\n",
       "    </tr>\n",
       "    <tr>\n",
       "      <th>2</th>\n",
       "      <td>GO:0000002</td>\n",
       "      <td>mitochondrial genome maintenance</td>\n",
       "      <td>PARTICIPATES_GpBP</td>\n",
       "      <td>55186</td>\n",
       "      <td>SLC25A36</td>\n",
       "    </tr>\n",
       "  </tbody>\n",
       "</table>\n",
       "</div>"
      ],
      "text/plain": [
       "  n.identifier                            n.name            type(r)  \\\n",
       "0   GO:0000002  mitochondrial genome maintenance  PARTICIPATES_GpBP   \n",
       "1   GO:0000002  mitochondrial genome maintenance  PARTICIPATES_GpBP   \n",
       "2   GO:0000002  mitochondrial genome maintenance  PARTICIPATES_GpBP   \n",
       "\n",
       "  m.identifier    m.name  \n",
       "0         4358     MPV17  \n",
       "1          291   SLC25A4  \n",
       "2        55186  SLC25A36  "
      ]
     },
     "execution_count": null,
     "metadata": {},
     "output_type": "execute_result"
    }
   ],
   "source": [
    "import pandas as pd\n",
    "result=client.execute_read_query('match p=(n)-[r]-(m) return n.identifier, n.name, type(r), m.identifier, m.name limit 3;', output_format='row')\n",
    "pd.DataFrame(result)"
   ]
  },
  {
   "cell_type": "markdown",
   "metadata": {},
   "source": [
    "## Execute a query and return a graph-type result"
   ]
  },
  {
   "cell_type": "code",
   "execution_count": null,
   "metadata": {},
   "outputs": [
    {
     "data": {
      "text/plain": [
       "{'nodes': [{'identifier': '4358',\n",
       "   'name': 'MPV17',\n",
       "   'label': 'Gene',\n",
       "   'source': 'Entrez Gene:210321',\n",
       "   'license': 'CCO 1.0',\n",
       "   'description': 'mitochondrial inner membrane protein MPV17',\n",
       "   'chromosome': '2',\n",
       "   'minkyu_degree': 14.0,\n",
       "   'url': 'http://identifiers.org/ncbigene/4358'},\n",
       "  {'identifier': 'GO:0000002',\n",
       "   'name': 'mitochondrial genome maintenance',\n",
       "   'label': 'BiologicalProcess',\n",
       "   'source': 'Gene Ontology:2021-02-01',\n",
       "   'license': 'CC BY 4.0',\n",
       "   'description': nan,\n",
       "   'chromosome': nan,\n",
       "   'minkyu_degree': nan,\n",
       "   'url': 'http://purl.obolibrary.org/obo/GO:0000002'},\n",
       "  {'identifier': '291',\n",
       "   'name': 'SLC25A4',\n",
       "   'label': 'Gene',\n",
       "   'source': 'Entrez Gene:210321',\n",
       "   'license': 'CCO 1.0',\n",
       "   'description': 'solute carrier family 25 member 4',\n",
       "   'chromosome': '4',\n",
       "   'minkyu_degree': 123.0,\n",
       "   'url': 'http://identifiers.org/ncbigene/291'},\n",
       "  {'identifier': '55186',\n",
       "   'name': 'SLC25A36',\n",
       "   'label': 'Gene',\n",
       "   'source': 'Entrez Gene:210321',\n",
       "   'license': 'CCO 1.0',\n",
       "   'description': 'solute carrier family 25 member 36',\n",
       "   'chromosome': '3',\n",
       "   'minkyu_degree': 2.0,\n",
       "   'url': 'http://identifiers.org/ncbigene/55186'}],\n",
       " 'edges': [{'type': 'PARTICIPATES_GpBP',\n",
       "   'start_identifier': '4358',\n",
       "   'start_name': 'MPV17',\n",
       "   'end_identifier': 'GO:0000002',\n",
       "   'end_name': 'mitochondrial genome maintenance',\n",
       "   'license': 'CC By 4.0',\n",
       "   'unbiased': 'False',\n",
       "   'source': 'NCBI gene2go',\n",
       "   'version': '2021-02-01'},\n",
       "  {'type': 'PARTICIPATES_GpBP',\n",
       "   'start_identifier': '291',\n",
       "   'start_name': 'SLC25A4',\n",
       "   'end_identifier': 'GO:0000002',\n",
       "   'end_name': 'mitochondrial genome maintenance',\n",
       "   'license': 'CC By 4.0',\n",
       "   'unbiased': 'False',\n",
       "   'source': 'NCBI gene2go',\n",
       "   'version': '2021-02-01'},\n",
       "  {'type': 'PARTICIPATES_GpBP',\n",
       "   'start_identifier': '55186',\n",
       "   'start_name': 'SLC25A36',\n",
       "   'end_identifier': 'GO:0000002',\n",
       "   'end_name': 'mitochondrial genome maintenance',\n",
       "   'license': 'CC By 4.0',\n",
       "   'unbiased': 'False',\n",
       "   'source': 'NCBI gene2go',\n",
       "   'version': '2021-02-01'}]}"
      ]
     },
     "execution_count": null,
     "metadata": {},
     "output_type": "execute_result"
    }
   ],
   "source": [
    "result=client.execute_read_query('match p=()--() return p limit 3;', output_format='graph')\n",
    "result"
   ]
  },
  {
   "cell_type": "markdown",
   "metadata": {},
   "source": [
    "## Show the graph"
   ]
  },
  {
   "cell_type": "code",
   "execution_count": null,
   "metadata": {},
   "outputs": [
    {
     "data": {
      "application/vnd.jupyter.widget-view+json": {
       "model_id": "f44a36dffae1464484c3e01312cde41e",
       "version_major": 2,
       "version_minor": 0
      },
      "text/plain": [
       "CytoscapeWidget(cytoscape_layout={'name': 'cola'}, cytoscape_style=[{'selector': 'node', 'style': {'label': 'd…"
      ]
     },
     "metadata": {},
     "output_type": "display_data"
    }
   ],
   "source": [
    "client.show('match p=()--() return p limit 3;')"
   ]
  },
  {
   "cell_type": "code",
   "execution_count": null,
   "metadata": {},
   "outputs": [],
   "source": []
  }
 ],
 "metadata": {
  "kernelspec": {
   "display_name": "Python 3 (ipykernel)",
   "language": "python",
   "name": "python3"
  }
 },
 "nbformat": 4,
 "nbformat_minor": 2
}
