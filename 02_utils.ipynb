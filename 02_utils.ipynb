{
 "cells": [
  {
   "cell_type": "code",
   "execution_count": null,
   "metadata": {},
   "outputs": [],
   "source": [
    "# default_exp utils"
   ]
  },
  {
   "cell_type": "markdown",
   "metadata": {},
   "source": [
    "# Utils"
   ]
  },
  {
   "cell_type": "code",
   "execution_count": null,
   "metadata": {},
   "outputs": [],
   "source": [
    "#hide\n",
    "from nbdev.showdoc import *"
   ]
  },
  {
   "cell_type": "code",
   "execution_count": null,
   "metadata": {},
   "outputs": [],
   "source": [
    "import json\n",
    "import pandas as pd\n",
    "from collections import OrderedDict"
   ]
  },
  {
   "cell_type": "code",
   "execution_count": null,
   "metadata": {},
   "outputs": [],
   "source": [
    "#export\n",
    "import pandas as pd\n",
    "\n",
    "def parse_result_row_graph(jsonobj):\n",
    "    '''\n",
    "    Parse Neo4j HTTP API Graph Result row\n",
    "    \n",
    "    input: element of result list\n",
    "    output: tuple of nodes and edges\n",
    "    '''\n",
    "    def parse_nodes(gobj):\n",
    "        node_dict={}\n",
    "        for n in gobj['nodes']:\n",
    "            _id=n['id']\n",
    "            label=n['labels'][0]\n",
    "            props=n['properties']\n",
    "            props['label']=label\n",
    "            \n",
    "            keys=props.keys()\n",
    "            headcols=['identifier','name','label']\n",
    "            orderedkeys=headcols+list(set(keys)-set(headcols))\n",
    "            orderedobj={k: props[k] for k in orderedkeys}\n",
    "            \n",
    "            node_dict[_id]=orderedobj\n",
    "\n",
    "        return node_dict\n",
    "\n",
    "    def parse_edges(gobj, node_dict):\n",
    "        edges=[]\n",
    "        for r in gobj['relationships']:\n",
    "            _type=r['type']\n",
    "            start_id=r['startNode']\n",
    "            end_id=r['endNode']\n",
    "\n",
    "            start_node=node_dict[start_id]\n",
    "            end_node=node_dict[end_id]\n",
    "\n",
    "            edge_dict={\n",
    "                'type': _type,\n",
    "                'start_identifier':start_node['identifier'],\n",
    "                'start_name': start_node['name'],\n",
    "                'end_identifier':end_node['identifier'],\n",
    "                'end_name': end_node['name']\n",
    "            }\n",
    "\n",
    "            # inject the rest properties\n",
    "            propobj=r['properties']\n",
    "            for k in propobj:\n",
    "                edge_dict[k]=propobj[k]\n",
    "\n",
    "            edges.append(edge_dict)\n",
    "\n",
    "        return edges\n",
    "    \n",
    "    gobj=jsonobj['graph']\n",
    "    \n",
    "    node_dict=parse_nodes(gobj)    \n",
    "    nodes=[node_dict[k] for k in node_dict]\n",
    "    \n",
    "    edges=parse_edges(gobj, node_dict)\n",
    "\n",
    "    return nodes, edges\n",
    "\n",
    "def drop_duplicates(items):\n",
    "    df=pd.DataFrame(items)\n",
    "    df=df.drop_duplicates()\n",
    "    items=df.to_dict(orient='records')\n",
    "    \n",
    "    return items\n",
    "\n",
    "def parse_result_graph(data):\n",
    "    '''\n",
    "    Parse Neo4j HTTP API Graph Result\n",
    "    '''\n",
    "    nodes=[]\n",
    "    edges=[]\n",
    "    for item in data:\n",
    "        _nodes, _edges = parse_result_row_graph(item)\n",
    "        nodes=nodes+_nodes\n",
    "        edges=edges+_edges\n",
    "    \n",
    "    nodes=drop_duplicates(nodes)\n",
    "    edges=drop_duplicates(edges)\n",
    "    \n",
    "    return nodes, edges"
   ]
  },
  {
   "cell_type": "code",
   "execution_count": null,
   "metadata": {},
   "outputs": [],
   "source": [
    "sample_output=json.loads(\"\"\"[\n",
    "{\"row\": [[{\"identifier\": \"10013\", \"license\": \"CCO 1.0\", \"chromosome\": \"X\", \"name\": \"HDAC6\", \"description\": \"histone deacetylase 6\", \"source\": \"Entrez Gene:210321\", \"url\": \"http://identifiers.org/ncbigene/10013\"}, {\"action_score\": 943.0, \"homology\": 0.0, \"experiments\": 483.0, \"textmining_transferred\": 642.0, \"combined_score\": 923.0, \"source\": \"String\", \"version\": \"v11.5\", \"license\": \"CC BY 4.0\", \"experiments_transferred\": 86.0, \"database\": 600.0, \"unbiased\": \"False\", \"action\": \"catalysis;reaction\", \"database_transferred\": 0.0, \"textmining\": 0.0}, {\"identifier\": \"3326\", \"license\": \"CCO 1.0\", \"chromosome\": \"6\", \"name\": \"HSP90AB1\", \"description\": \"heat shock protein 90 alpha family class B member 1\", \"source\": \"Entrez Gene:210321\", \"url\": \"http://identifiers.org/ncbigene/3326\"}]], \"meta\": [[{\"id\": 6967, \"type\": \"node\", \"deleted\": false}, {\"id\": 7460908, \"type\": \"relationship\", \"deleted\": false}, {\"id\": 73199, \"type\": \"node\", \"deleted\": false}]], \"graph\": {\"nodes\": [{\"id\": \"6967\", \"labels\": [\"Gene\"], \"properties\": {\"identifier\": \"10013\", \"license\": \"CCO 1.0\", \"chromosome\": \"X\", \"name\": \"HDAC6\", \"description\": \"histone deacetylase 6\", \"source\": \"Entrez Gene:210321\", \"url\": \"http://identifiers.org/ncbigene/10013\"}}, {\"id\": \"73199\", \"labels\": [\"Gene\"], \"properties\": {\"identifier\": \"3326\", \"license\": \"CCO 1.0\", \"chromosome\": \"6\", \"name\": \"HSP90AB1\", \"description\": \"heat shock protein 90 alpha family class B member 1\", \"source\": \"Entrez Gene:210321\", \"url\": \"http://identifiers.org/ncbigene/3326\"}}], \"relationships\": [{\"id\": \"7460908\", \"type\": \"INTERACTS_GiG2\", \"startNode\": \"73199\", \"endNode\": \"6967\", \"properties\": {\"action_score\": 943.0, \"homology\": 0.0, \"experiments\": 483.0, \"textmining_transferred\": 642.0, \"combined_score\": 923.0, \"source\": \"String\", \"version\": \"v11.5\", \"license\": \"CC BY 4.0\", \"experiments_transferred\": 86.0, \"database\": 600.0, \"unbiased\": \"False\", \"action\": \"catalysis;reaction\", \"database_transferred\": 0.0, \"textmining\": 0.0}}]}}\n",
    ",{\"row\": [[{\"identifier\": \"10013\", \"license\": \"CCO 1.0\", \"chromosome\": \"X\", \"name\": \"HDAC6\", \"description\": \"histone deacetylase 6\", \"source\": \"Entrez Gene:210321\", \"url\": \"http://identifiers.org/ncbigene/10013\"}, {\"action_score\": 911.0, \"homology\": 0.0, \"experiments\": 457.0, \"textmining_transferred\": 358.0, \"combined_score\": 987.0, \"source\": \"String\", \"version\": \"v11.5\", \"license\": \"CC BY 4.0\", \"experiments_transferred\": 260.0, \"database\": 800.0, \"unbiased\": \"False\", \"action\": \"catalysis;reaction\", \"database_transferred\": 0.0, \"textmining\": 795.0}, {\"identifier\": \"7415\", \"license\": \"CCO 1.0\", \"chromosome\": \"9\", \"name\": \"VCP\", \"description\": \"valosin containing protein\", \"source\": \"Entrez Gene:210321\", \"url\": \"http://identifiers.org/ncbigene/7415\"}]], \"meta\": [[{\"id\": 6967, \"type\": \"node\", \"deleted\": false}, {\"id\": 7452444, \"type\": \"relationship\", \"deleted\": false}, {\"id\": 83549, \"type\": \"node\", \"deleted\": false}]], \"graph\": {\"nodes\": [{\"id\": \"6967\", \"labels\": [\"Gene\"], \"properties\": {\"identifier\": \"10013\", \"license\": \"CCO 1.0\", \"chromosome\": \"X\", \"name\": \"HDAC6\", \"description\": \"histone deacetylase 6\", \"source\": \"Entrez Gene:210321\", \"url\": \"http://identifiers.org/ncbigene/10013\"}}, {\"id\": \"83549\", \"labels\": [\"Gene\"], \"properties\": {\"identifier\": \"7415\", \"license\": \"CCO 1.0\", \"chromosome\": \"9\", \"name\": \"VCP\", \"description\": \"valosin containing protein\", \"source\": \"Entrez Gene:210321\", \"url\": \"http://identifiers.org/ncbigene/7415\"}}], \"relationships\": [{\"id\": \"7452444\", \"type\": \"INTERACTS_GiG2\", \"startNode\": \"83549\", \"endNode\": \"6967\", \"properties\": {\"action_score\": 911.0, \"homology\": 0.0, \"experiments\": 457.0, \"textmining_transferred\": 358.0, \"combined_score\": 987.0, \"source\": \"String\", \"version\": \"v11.5\", \"license\": \"CC BY 4.0\", \"experiments_transferred\": 260.0, \"database\": 800.0, \"unbiased\": \"False\", \"action\": \"catalysis;reaction\", \"database_transferred\": 0.0, \"textmining\": 795.0}}]}}\n",
    ",{\"row\": [[{\"identifier\": \"10013\", \"license\": \"CCO 1.0\", \"chromosome\": \"X\", \"name\": \"HDAC6\", \"description\": \"histone deacetylase 6\", \"source\": \"Entrez Gene:210321\", \"url\": \"http://identifiers.org/ncbigene/10013\"}, {\"action_score\": 900.0, \"homology\": 0.0, \"experiments\": 483.0, \"textmining_transferred\": 127.0, \"combined_score\": 955.0, \"source\": \"String\", \"version\": \"v11.5\", \"license\": \"CC BY 4.0\", \"experiments_transferred\": 136.0, \"database\": 900.0, \"unbiased\": \"False\", \"action\": \"binding\", \"database_transferred\": 0.0, \"textmining\": 0.0}, {\"identifier\": \"10376\", \"license\": \"CCO 1.0\", \"chromosome\": \"12\", \"name\": \"TUBA1B\", \"description\": \"tubulin alpha 1b\", \"source\": \"Entrez Gene:210321\", \"url\": \"http://identifiers.org/ncbigene/10376\"}]], \"meta\": [[{\"id\": 6967, \"type\": \"node\", \"deleted\": false}, {\"id\": 7402346, \"type\": \"relationship\", \"deleted\": false}, {\"id\": 50348, \"type\": \"node\", \"deleted\": false}]], \"graph\": {\"nodes\": [{\"id\": \"6967\", \"labels\": [\"Gene\"], \"properties\": {\"identifier\": \"10013\", \"license\": \"CCO 1.0\", \"chromosome\": \"X\", \"name\": \"HDAC6\", \"description\": \"histone deacetylase 6\", \"source\": \"Entrez Gene:210321\", \"url\": \"http://identifiers.org/ncbigene/10013\"}}, {\"id\": \"50348\", \"labels\": [\"Gene\"], \"properties\": {\"identifier\": \"10376\", \"license\": \"CCO 1.0\", \"chromosome\": \"12\", \"name\": \"TUBA1B\", \"description\": \"tubulin alpha 1b\", \"source\": \"Entrez Gene:210321\", \"url\": \"http://identifiers.org/ncbigene/10376\"}}], \"relationships\": [{\"id\": \"7402346\", \"type\": \"INTERACTS_GiG2\", \"startNode\": \"50348\", \"endNode\": \"6967\", \"properties\": {\"action_score\": 900.0, \"homology\": 0.0, \"experiments\": 483.0, \"textmining_transferred\": 127.0, \"combined_score\": 955.0, \"source\": \"String\", \"version\": \"v11.5\", \"license\": \"CC BY 4.0\", \"experiments_transferred\": 136.0, \"database\": 900.0, \"unbiased\": \"False\", \"action\": \"binding\", \"database_transferred\": 0.0, \"textmining\": 0.0}}]}}\n",
    "]\"\"\")"
   ]
  },
  {
   "cell_type": "markdown",
   "metadata": {},
   "source": [
    "## `parse_result_row_graph` Examples"
   ]
  },
  {
   "cell_type": "code",
   "execution_count": null,
   "metadata": {},
   "outputs": [],
   "source": [
    "nodes, edges = parse_result_row_graph(sample_output[0])"
   ]
  },
  {
   "cell_type": "code",
   "execution_count": null,
   "metadata": {},
   "outputs": [
    {
     "data": {
      "text/plain": [
       "[{'identifier': '10013',\n",
       "  'name': 'HDAC6',\n",
       "  'label': 'Gene',\n",
       "  'license': 'CCO 1.0',\n",
       "  'chromosome': 'X',\n",
       "  'description': 'histone deacetylase 6',\n",
       "  'url': 'http://identifiers.org/ncbigene/10013',\n",
       "  'source': 'Entrez Gene:210321'},\n",
       " {'identifier': '3326',\n",
       "  'name': 'HSP90AB1',\n",
       "  'label': 'Gene',\n",
       "  'license': 'CCO 1.0',\n",
       "  'chromosome': '6',\n",
       "  'description': 'heat shock protein 90 alpha family class B member 1',\n",
       "  'url': 'http://identifiers.org/ncbigene/3326',\n",
       "  'source': 'Entrez Gene:210321'}]"
      ]
     },
     "execution_count": null,
     "metadata": {},
     "output_type": "execute_result"
    }
   ],
   "source": [
    "nodes"
   ]
  },
  {
   "cell_type": "code",
   "execution_count": null,
   "metadata": {},
   "outputs": [
    {
     "data": {
      "text/plain": [
       "[{'type': 'INTERACTS_GiG2',\n",
       "  'start_identifier': '3326',\n",
       "  'start_name': 'HSP90AB1',\n",
       "  'end_identifier': '10013',\n",
       "  'end_name': 'HDAC6',\n",
       "  'action_score': 943.0,\n",
       "  'homology': 0.0,\n",
       "  'experiments': 483.0,\n",
       "  'textmining_transferred': 642.0,\n",
       "  'combined_score': 923.0,\n",
       "  'source': 'String',\n",
       "  'version': 'v11.5',\n",
       "  'license': 'CC BY 4.0',\n",
       "  'experiments_transferred': 86.0,\n",
       "  'database': 600.0,\n",
       "  'unbiased': 'False',\n",
       "  'action': 'catalysis;reaction',\n",
       "  'database_transferred': 0.0,\n",
       "  'textmining': 0.0}]"
      ]
     },
     "execution_count": null,
     "metadata": {},
     "output_type": "execute_result"
    }
   ],
   "source": [
    "edges"
   ]
  },
  {
   "cell_type": "markdown",
   "metadata": {},
   "source": [
    "## `parse_result_row_graph` Tests"
   ]
  },
  {
   "cell_type": "code",
   "execution_count": null,
   "metadata": {},
   "outputs": [],
   "source": [
    "assert len(nodes) == 2"
   ]
  },
  {
   "cell_type": "code",
   "execution_count": null,
   "metadata": {},
   "outputs": [],
   "source": [
    "assert len(edges) == 1"
   ]
  },
  {
   "cell_type": "code",
   "execution_count": null,
   "metadata": {},
   "outputs": [],
   "source": [
    "for node in nodes:\n",
    "    assert 'identifier' in node, 'identifier must be provided.'\n",
    "    assert 'name' in node, 'name must be provided.'\n",
    "    assert 'label' in node, 'label must be provided.'"
   ]
  },
  {
   "cell_type": "code",
   "execution_count": null,
   "metadata": {},
   "outputs": [],
   "source": [
    "for edge in edges:\n",
    "    assert 'start_identifier' in edge, 'start_identifier must be provided.'\n",
    "    assert 'start_name' in edge, 'start_name must be provided.'\n",
    "    assert 'end_identifier' in edge, 'end_identifier must be provided.'\n",
    "    assert 'end_name' in edge, 'end_name must be provided.'\n",
    "    assert 'type' in edge, 'type must be provided.'"
   ]
  },
  {
   "cell_type": "markdown",
   "metadata": {},
   "source": [
    "## `parse_result_graph` Example"
   ]
  },
  {
   "cell_type": "code",
   "execution_count": null,
   "metadata": {},
   "outputs": [],
   "source": [
    "nodes, edges=parse_result_graph(sample_output)"
   ]
  },
  {
   "cell_type": "code",
   "execution_count": null,
   "metadata": {},
   "outputs": [
    {
     "data": {
      "text/plain": [
       "[{'identifier': '10013',\n",
       "  'name': 'HDAC6',\n",
       "  'label': 'Gene',\n",
       "  'license': 'CCO 1.0',\n",
       "  'chromosome': 'X',\n",
       "  'description': 'histone deacetylase 6',\n",
       "  'url': 'http://identifiers.org/ncbigene/10013',\n",
       "  'source': 'Entrez Gene:210321'},\n",
       " {'identifier': '3326',\n",
       "  'name': 'HSP90AB1',\n",
       "  'label': 'Gene',\n",
       "  'license': 'CCO 1.0',\n",
       "  'chromosome': '6',\n",
       "  'description': 'heat shock protein 90 alpha family class B member 1',\n",
       "  'url': 'http://identifiers.org/ncbigene/3326',\n",
       "  'source': 'Entrez Gene:210321'},\n",
       " {'identifier': '7415',\n",
       "  'name': 'VCP',\n",
       "  'label': 'Gene',\n",
       "  'license': 'CCO 1.0',\n",
       "  'chromosome': '9',\n",
       "  'description': 'valosin containing protein',\n",
       "  'url': 'http://identifiers.org/ncbigene/7415',\n",
       "  'source': 'Entrez Gene:210321'},\n",
       " {'identifier': '10376',\n",
       "  'name': 'TUBA1B',\n",
       "  'label': 'Gene',\n",
       "  'license': 'CCO 1.0',\n",
       "  'chromosome': '12',\n",
       "  'description': 'tubulin alpha 1b',\n",
       "  'url': 'http://identifiers.org/ncbigene/10376',\n",
       "  'source': 'Entrez Gene:210321'}]"
      ]
     },
     "execution_count": null,
     "metadata": {},
     "output_type": "execute_result"
    }
   ],
   "source": [
    "nodes"
   ]
  },
  {
   "cell_type": "code",
   "execution_count": null,
   "metadata": {},
   "outputs": [
    {
     "data": {
      "text/plain": [
       "[{'type': 'INTERACTS_GiG2',\n",
       "  'start_identifier': '3326',\n",
       "  'start_name': 'HSP90AB1',\n",
       "  'end_identifier': '10013',\n",
       "  'end_name': 'HDAC6',\n",
       "  'action_score': 943.0,\n",
       "  'homology': 0.0,\n",
       "  'experiments': 483.0,\n",
       "  'textmining_transferred': 642.0,\n",
       "  'combined_score': 923.0,\n",
       "  'source': 'String',\n",
       "  'version': 'v11.5',\n",
       "  'license': 'CC BY 4.0',\n",
       "  'experiments_transferred': 86.0,\n",
       "  'database': 600.0,\n",
       "  'unbiased': 'False',\n",
       "  'action': 'catalysis;reaction',\n",
       "  'database_transferred': 0.0,\n",
       "  'textmining': 0.0},\n",
       " {'type': 'INTERACTS_GiG2',\n",
       "  'start_identifier': '7415',\n",
       "  'start_name': 'VCP',\n",
       "  'end_identifier': '10013',\n",
       "  'end_name': 'HDAC6',\n",
       "  'action_score': 911.0,\n",
       "  'homology': 0.0,\n",
       "  'experiments': 457.0,\n",
       "  'textmining_transferred': 358.0,\n",
       "  'combined_score': 987.0,\n",
       "  'source': 'String',\n",
       "  'version': 'v11.5',\n",
       "  'license': 'CC BY 4.0',\n",
       "  'experiments_transferred': 260.0,\n",
       "  'database': 800.0,\n",
       "  'unbiased': 'False',\n",
       "  'action': 'catalysis;reaction',\n",
       "  'database_transferred': 0.0,\n",
       "  'textmining': 795.0},\n",
       " {'type': 'INTERACTS_GiG2',\n",
       "  'start_identifier': '10376',\n",
       "  'start_name': 'TUBA1B',\n",
       "  'end_identifier': '10013',\n",
       "  'end_name': 'HDAC6',\n",
       "  'action_score': 900.0,\n",
       "  'homology': 0.0,\n",
       "  'experiments': 483.0,\n",
       "  'textmining_transferred': 127.0,\n",
       "  'combined_score': 955.0,\n",
       "  'source': 'String',\n",
       "  'version': 'v11.5',\n",
       "  'license': 'CC BY 4.0',\n",
       "  'experiments_transferred': 136.0,\n",
       "  'database': 900.0,\n",
       "  'unbiased': 'False',\n",
       "  'action': 'binding',\n",
       "  'database_transferred': 0.0,\n",
       "  'textmining': 0.0}]"
      ]
     },
     "execution_count": null,
     "metadata": {},
     "output_type": "execute_result"
    }
   ],
   "source": [
    "edges"
   ]
  },
  {
   "cell_type": "code",
   "execution_count": null,
   "metadata": {},
   "outputs": [
    {
     "data": {
      "text/html": [
       "<div>\n",
       "<style scoped>\n",
       "    .dataframe tbody tr th:only-of-type {\n",
       "        vertical-align: middle;\n",
       "    }\n",
       "\n",
       "    .dataframe tbody tr th {\n",
       "        vertical-align: top;\n",
       "    }\n",
       "\n",
       "    .dataframe thead th {\n",
       "        text-align: right;\n",
       "    }\n",
       "</style>\n",
       "<table border=\"1\" class=\"dataframe\">\n",
       "  <thead>\n",
       "    <tr style=\"text-align: right;\">\n",
       "      <th></th>\n",
       "      <th>identifier</th>\n",
       "      <th>name</th>\n",
       "      <th>label</th>\n",
       "      <th>license</th>\n",
       "      <th>chromosome</th>\n",
       "      <th>description</th>\n",
       "      <th>url</th>\n",
       "      <th>source</th>\n",
       "    </tr>\n",
       "  </thead>\n",
       "  <tbody>\n",
       "    <tr>\n",
       "      <th>0</th>\n",
       "      <td>10013</td>\n",
       "      <td>HDAC6</td>\n",
       "      <td>Gene</td>\n",
       "      <td>CCO 1.0</td>\n",
       "      <td>X</td>\n",
       "      <td>histone deacetylase 6</td>\n",
       "      <td>http://identifiers.org/ncbigene/10013</td>\n",
       "      <td>Entrez Gene:210321</td>\n",
       "    </tr>\n",
       "    <tr>\n",
       "      <th>1</th>\n",
       "      <td>3326</td>\n",
       "      <td>HSP90AB1</td>\n",
       "      <td>Gene</td>\n",
       "      <td>CCO 1.0</td>\n",
       "      <td>6</td>\n",
       "      <td>heat shock protein 90 alpha family class B mem...</td>\n",
       "      <td>http://identifiers.org/ncbigene/3326</td>\n",
       "      <td>Entrez Gene:210321</td>\n",
       "    </tr>\n",
       "    <tr>\n",
       "      <th>2</th>\n",
       "      <td>7415</td>\n",
       "      <td>VCP</td>\n",
       "      <td>Gene</td>\n",
       "      <td>CCO 1.0</td>\n",
       "      <td>9</td>\n",
       "      <td>valosin containing protein</td>\n",
       "      <td>http://identifiers.org/ncbigene/7415</td>\n",
       "      <td>Entrez Gene:210321</td>\n",
       "    </tr>\n",
       "    <tr>\n",
       "      <th>3</th>\n",
       "      <td>10376</td>\n",
       "      <td>TUBA1B</td>\n",
       "      <td>Gene</td>\n",
       "      <td>CCO 1.0</td>\n",
       "      <td>12</td>\n",
       "      <td>tubulin alpha 1b</td>\n",
       "      <td>http://identifiers.org/ncbigene/10376</td>\n",
       "      <td>Entrez Gene:210321</td>\n",
       "    </tr>\n",
       "  </tbody>\n",
       "</table>\n",
       "</div>"
      ],
      "text/plain": [
       "  identifier      name label  license chromosome  \\\n",
       "0      10013     HDAC6  Gene  CCO 1.0          X   \n",
       "1       3326  HSP90AB1  Gene  CCO 1.0          6   \n",
       "2       7415       VCP  Gene  CCO 1.0          9   \n",
       "3      10376    TUBA1B  Gene  CCO 1.0         12   \n",
       "\n",
       "                                         description  \\\n",
       "0                              histone deacetylase 6   \n",
       "1  heat shock protein 90 alpha family class B mem...   \n",
       "2                         valosin containing protein   \n",
       "3                                   tubulin alpha 1b   \n",
       "\n",
       "                                     url              source  \n",
       "0  http://identifiers.org/ncbigene/10013  Entrez Gene:210321  \n",
       "1   http://identifiers.org/ncbigene/3326  Entrez Gene:210321  \n",
       "2   http://identifiers.org/ncbigene/7415  Entrez Gene:210321  \n",
       "3  http://identifiers.org/ncbigene/10376  Entrez Gene:210321  "
      ]
     },
     "execution_count": null,
     "metadata": {},
     "output_type": "execute_result"
    }
   ],
   "source": [
    "df=pd.DataFrame(nodes)\n",
    "df"
   ]
  },
  {
   "cell_type": "code",
   "execution_count": null,
   "metadata": {},
   "outputs": [
    {
     "data": {
      "text/html": [
       "<div>\n",
       "<style scoped>\n",
       "    .dataframe tbody tr th:only-of-type {\n",
       "        vertical-align: middle;\n",
       "    }\n",
       "\n",
       "    .dataframe tbody tr th {\n",
       "        vertical-align: top;\n",
       "    }\n",
       "\n",
       "    .dataframe thead th {\n",
       "        text-align: right;\n",
       "    }\n",
       "</style>\n",
       "<table border=\"1\" class=\"dataframe\">\n",
       "  <thead>\n",
       "    <tr style=\"text-align: right;\">\n",
       "      <th></th>\n",
       "      <th>type</th>\n",
       "      <th>start_identifier</th>\n",
       "      <th>start_name</th>\n",
       "      <th>end_identifier</th>\n",
       "      <th>end_name</th>\n",
       "      <th>action_score</th>\n",
       "      <th>homology</th>\n",
       "      <th>experiments</th>\n",
       "      <th>textmining_transferred</th>\n",
       "      <th>combined_score</th>\n",
       "      <th>source</th>\n",
       "      <th>version</th>\n",
       "      <th>license</th>\n",
       "      <th>experiments_transferred</th>\n",
       "      <th>database</th>\n",
       "      <th>unbiased</th>\n",
       "      <th>action</th>\n",
       "      <th>database_transferred</th>\n",
       "      <th>textmining</th>\n",
       "    </tr>\n",
       "  </thead>\n",
       "  <tbody>\n",
       "    <tr>\n",
       "      <th>0</th>\n",
       "      <td>INTERACTS_GiG2</td>\n",
       "      <td>3326</td>\n",
       "      <td>HSP90AB1</td>\n",
       "      <td>10013</td>\n",
       "      <td>HDAC6</td>\n",
       "      <td>943.0</td>\n",
       "      <td>0.0</td>\n",
       "      <td>483.0</td>\n",
       "      <td>642.0</td>\n",
       "      <td>923.0</td>\n",
       "      <td>String</td>\n",
       "      <td>v11.5</td>\n",
       "      <td>CC BY 4.0</td>\n",
       "      <td>86.0</td>\n",
       "      <td>600.0</td>\n",
       "      <td>False</td>\n",
       "      <td>catalysis;reaction</td>\n",
       "      <td>0.0</td>\n",
       "      <td>0.0</td>\n",
       "    </tr>\n",
       "    <tr>\n",
       "      <th>1</th>\n",
       "      <td>INTERACTS_GiG2</td>\n",
       "      <td>7415</td>\n",
       "      <td>VCP</td>\n",
       "      <td>10013</td>\n",
       "      <td>HDAC6</td>\n",
       "      <td>911.0</td>\n",
       "      <td>0.0</td>\n",
       "      <td>457.0</td>\n",
       "      <td>358.0</td>\n",
       "      <td>987.0</td>\n",
       "      <td>String</td>\n",
       "      <td>v11.5</td>\n",
       "      <td>CC BY 4.0</td>\n",
       "      <td>260.0</td>\n",
       "      <td>800.0</td>\n",
       "      <td>False</td>\n",
       "      <td>catalysis;reaction</td>\n",
       "      <td>0.0</td>\n",
       "      <td>795.0</td>\n",
       "    </tr>\n",
       "    <tr>\n",
       "      <th>2</th>\n",
       "      <td>INTERACTS_GiG2</td>\n",
       "      <td>10376</td>\n",
       "      <td>TUBA1B</td>\n",
       "      <td>10013</td>\n",
       "      <td>HDAC6</td>\n",
       "      <td>900.0</td>\n",
       "      <td>0.0</td>\n",
       "      <td>483.0</td>\n",
       "      <td>127.0</td>\n",
       "      <td>955.0</td>\n",
       "      <td>String</td>\n",
       "      <td>v11.5</td>\n",
       "      <td>CC BY 4.0</td>\n",
       "      <td>136.0</td>\n",
       "      <td>900.0</td>\n",
       "      <td>False</td>\n",
       "      <td>binding</td>\n",
       "      <td>0.0</td>\n",
       "      <td>0.0</td>\n",
       "    </tr>\n",
       "  </tbody>\n",
       "</table>\n",
       "</div>"
      ],
      "text/plain": [
       "             type start_identifier start_name end_identifier end_name  \\\n",
       "0  INTERACTS_GiG2             3326   HSP90AB1          10013    HDAC6   \n",
       "1  INTERACTS_GiG2             7415        VCP          10013    HDAC6   \n",
       "2  INTERACTS_GiG2            10376     TUBA1B          10013    HDAC6   \n",
       "\n",
       "   action_score  homology  experiments  textmining_transferred  \\\n",
       "0         943.0       0.0        483.0                   642.0   \n",
       "1         911.0       0.0        457.0                   358.0   \n",
       "2         900.0       0.0        483.0                   127.0   \n",
       "\n",
       "   combined_score  source version    license  experiments_transferred  \\\n",
       "0           923.0  String   v11.5  CC BY 4.0                     86.0   \n",
       "1           987.0  String   v11.5  CC BY 4.0                    260.0   \n",
       "2           955.0  String   v11.5  CC BY 4.0                    136.0   \n",
       "\n",
       "   database unbiased              action  database_transferred  textmining  \n",
       "0     600.0    False  catalysis;reaction                   0.0         0.0  \n",
       "1     800.0    False  catalysis;reaction                   0.0       795.0  \n",
       "2     900.0    False             binding                   0.0         0.0  "
      ]
     },
     "execution_count": null,
     "metadata": {},
     "output_type": "execute_result"
    }
   ],
   "source": [
    "pd.DataFrame(edges)"
   ]
  },
  {
   "cell_type": "markdown",
   "metadata": {},
   "source": [
    "## `parse_result_graph` Test"
   ]
  },
  {
   "cell_type": "code",
   "execution_count": null,
   "metadata": {},
   "outputs": [],
   "source": [
    "assert len(nodes) == 4 \n",
    "assert len(edges) == 3"
   ]
  },
  {
   "cell_type": "code",
   "execution_count": null,
   "metadata": {},
   "outputs": [],
   "source": []
  }
 ],
 "metadata": {
  "kernelspec": {
   "display_name": "Python 3 (ipykernel)",
   "language": "python",
   "name": "python3"
  }
 },
 "nbformat": 4,
 "nbformat_minor": 2
}
