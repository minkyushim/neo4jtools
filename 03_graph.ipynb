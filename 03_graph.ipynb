{
 "cells": [
  {
   "cell_type": "code",
   "execution_count": null,
   "id": "553bed20",
   "metadata": {},
   "outputs": [],
   "source": [
    "# default_exp graph"
   ]
  },
  {
   "cell_type": "markdown",
   "id": "7c95f83d",
   "metadata": {},
   "source": [
    "# graph"
   ]
  },
  {
   "cell_type": "code",
   "execution_count": null,
   "id": "663ad796",
   "metadata": {},
   "outputs": [],
   "source": [
    "#hide\n",
    "from nbdev.showdoc import *\n",
    "import json\n",
    "from neo4jtools import SimpleNeo4jHTTPAPIClient\n",
    "import numpy as np\n",
    "nan = np.nan"
   ]
  },
  {
   "cell_type": "code",
   "execution_count": null,
   "id": "36d6da7a",
   "metadata": {},
   "outputs": [],
   "source": [
    "#export\n",
    "import ipycytoscape\n",
    "def get_graph_for_ipycytoscape(neo4j_graph_dict):\n",
    "    g={}\n",
    "    g['nodes']=[{'data': {\n",
    "        'id':n['identifier'], \n",
    "        'name':n['name'],\n",
    "        'label':n['label']\n",
    "    }} for n in neo4j_graph_dict['nodes']]\n",
    "    \n",
    "    g['edges']=[{'data': {\n",
    "        'source':e['start_identifier'], \n",
    "        'target':e['end_identifier'],\n",
    "        'type':e['type'],\n",
    "        'is_directional':e['is_directional'] if 'is_directional' in e else False\n",
    "    }} for e in neo4j_graph_dict['edges']]\n",
    "    \n",
    "    return g\n",
    "\n",
    "def draw(graphs):\n",
    "    style = [\n",
    "        {\n",
    "            'selector': 'node', \n",
    "            'style': {\n",
    "                'label': 'data(name)',\n",
    "                'background-color': 'rgb(241, 102, 103)'\n",
    "            }\n",
    "        },\n",
    "        {\n",
    "            'selector': 'edge', \n",
    "            'style': {\n",
    "                'target-arrow-shape': 'triangle',\n",
    "                'font-size': '8px',\n",
    "                'curve-style': 'bezier',\n",
    "                'label': 'data(dwpc)',\n",
    "            }\n",
    "        },\n",
    "    ]\n",
    "    widget = ipycytoscape.CytoscapeWidget()\n",
    "    gs=[get_graph_for_ipycytoscape(g) for g in graphs]\n",
    "    for g in gs:\n",
    "        widget.graph.add_graph_from_json(g, directed=True) \n",
    "    widget.set_style(style)\n",
    "    \n",
    "    return widget    "
   ]
  },
  {
   "cell_type": "code",
   "execution_count": null,
   "id": "931cf30b",
   "metadata": {},
   "outputs": [
    {
     "data": {
      "text/plain": [
       "{'nodes': [{'identifier': 'GO:0000002',\n",
       "   'name': 'mitochondrial genome maintenance',\n",
       "   'label': 'BiologicalProcess',\n",
       "   'source': 'Gene Ontology:2021-02-01',\n",
       "   'url': 'http://purl.obolibrary.org/obo/GO:0000002',\n",
       "   'license': 'CC BY 4.0',\n",
       "   'url3': nan,\n",
       "   'location': nan,\n",
       "   'xrefs': nan,\n",
       "   'synonyms': nan,\n",
       "   'pdb': nan,\n",
       "   'description': nan,\n",
       "   'ensembl_id': nan,\n",
       "   'uniprot_id': nan,\n",
       "   'url2': nan,\n",
       "   'chromosome': nan},\n",
       "  {'identifier': '10000',\n",
       "   'name': 'AKT3',\n",
       "   'label': 'Gene',\n",
       "   'source': 'Entrez Gene:20220425',\n",
       "   'url': 'http://identifiers.org/ncbigene/10000',\n",
       "   'license': 'CCO 1.0',\n",
       "   'url3': 'https://genetics.opentargets.org/gene/ENSG00000117020',\n",
       "   'location': 'Nucleus(uniprot);Cytoplasm(uniprot);Cytosol(HPA_main)',\n",
       "   'xrefs': 'MIM:611223|HGNC:HGNC:393|Ensembl:ENSG00000117020|AllianceGenome:HGNC:393',\n",
       "   'synonyms': 'MPPH|MPPH2|PKB-GAMMA|PKBG|PRKBG|RAC-PK-gamma|RAC-gamma|STK-2',\n",
       "   'pdb': '2X18',\n",
       "   'description': 'AKT serine/threonine kinase 3',\n",
       "   'ensembl_id': 'ENSG00000117020',\n",
       "   'uniprot_id': 'Q9Y243;A0A5F9ZHU3',\n",
       "   'url2': 'https://www.genecards.org/cgi-bin/carddisp.pl?gene=AKT3',\n",
       "   'chromosome': '1'}],\n",
       " 'edges': [{'type': 'PARTICIPATES_GpBP',\n",
       "   'start_identifier': '10000',\n",
       "   'start_name': 'AKT3',\n",
       "   'end_identifier': 'GO:0000002',\n",
       "   'end_name': 'mitochondrial genome maintenance',\n",
       "   'license': 'CC By 4.0',\n",
       "   'unbiased': 'False',\n",
       "   'is_directional': 'True',\n",
       "   'source': 'NCBI gene2go:2021-02-01'}]}"
      ]
     },
     "execution_count": null,
     "metadata": {},
     "output_type": "execute_result"
    }
   ],
   "source": [
    "graph_dict=json.loads(json.dumps({'nodes': [{'identifier': 'GO:0000002',\n",
    "   'name': 'mitochondrial genome maintenance',\n",
    "   'label': 'BiologicalProcess',\n",
    "   'source': 'Gene Ontology:2021-02-01',\n",
    "   'url': 'http://purl.obolibrary.org/obo/GO:0000002',\n",
    "   'license': 'CC BY 4.0',\n",
    "   'url3': nan,\n",
    "   'location': nan,\n",
    "   'xrefs': nan,\n",
    "   'synonyms': nan,\n",
    "   'pdb': nan,\n",
    "   'description': nan,\n",
    "   'ensembl_id': nan,\n",
    "   'uniprot_id': nan,\n",
    "   'url2': nan,\n",
    "   'chromosome': nan},\n",
    "  {'identifier': '10000',\n",
    "   'name': 'AKT3',\n",
    "   'label': 'Gene',\n",
    "   'source': 'Entrez Gene:20220425',\n",
    "   'url': 'http://identifiers.org/ncbigene/10000',\n",
    "   'license': 'CCO 1.0',\n",
    "   'url3': 'https://genetics.opentargets.org/gene/ENSG00000117020',\n",
    "   'location': 'Nucleus(uniprot);Cytoplasm(uniprot);Cytosol(HPA_main)',\n",
    "   'xrefs': 'MIM:611223|HGNC:HGNC:393|Ensembl:ENSG00000117020|AllianceGenome:HGNC:393',\n",
    "   'synonyms': 'MPPH|MPPH2|PKB-GAMMA|PKBG|PRKBG|RAC-PK-gamma|RAC-gamma|STK-2',\n",
    "   'pdb': '2X18',\n",
    "   'description': 'AKT serine/threonine kinase 3',\n",
    "   'ensembl_id': 'ENSG00000117020',\n",
    "   'uniprot_id': 'Q9Y243;A0A5F9ZHU3',\n",
    "   'url2': 'https://www.genecards.org/cgi-bin/carddisp.pl?gene=AKT3',\n",
    "   'chromosome': '1'}],\n",
    " 'edges': [{'type': 'PARTICIPATES_GpBP',\n",
    "   'start_identifier': '10000',\n",
    "   'start_name': 'AKT3',\n",
    "   'end_identifier': 'GO:0000002',\n",
    "   'end_name': 'mitochondrial genome maintenance',\n",
    "   'license': 'CC By 4.0',\n",
    "   'unbiased': 'False',\n",
    "   'is_directional': 'True',\n",
    "   'source': 'NCBI gene2go:2021-02-01'}]}))\n",
    "graph_dict"
   ]
  },
  {
   "cell_type": "code",
   "execution_count": null,
   "id": "ed72983f",
   "metadata": {},
   "outputs": [
    {
     "data": {
      "text/plain": [
       "{'nodes': [{'data': {'id': 'GO:0000002',\n",
       "    'name': 'mitochondrial genome maintenance',\n",
       "    'label': 'BiologicalProcess'}},\n",
       "  {'data': {'id': '10000', 'name': 'AKT3', 'label': 'Gene'}}],\n",
       " 'edges': [{'data': {'source': '10000',\n",
       "    'target': 'GO:0000002',\n",
       "    'type': 'PARTICIPATES_GpBP',\n",
       "    'is_directional': 'True'}}]}"
      ]
     },
     "execution_count": null,
     "metadata": {},
     "output_type": "execute_result"
    }
   ],
   "source": [
    "g=get_graph_for_ipycytoscape(graph_dict)\n",
    "g"
   ]
  },
  {
   "cell_type": "code",
   "execution_count": null,
   "id": "4c0a29b6",
   "metadata": {},
   "outputs": [],
   "source": []
  }
 ],
 "metadata": {
  "kernelspec": {
   "display_name": "Python 3 (ipykernel)",
   "language": "python",
   "name": "python3"
  }
 },
 "nbformat": 4,
 "nbformat_minor": 5
}
