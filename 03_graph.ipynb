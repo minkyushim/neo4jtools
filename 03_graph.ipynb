{
 "cells": [
  {
   "cell_type": "code",
   "execution_count": null,
   "id": "553bed20",
   "metadata": {},
   "outputs": [],
   "source": [
    "# default_exp graph"
   ]
  },
  {
   "cell_type": "markdown",
   "id": "7c95f83d",
   "metadata": {},
   "source": [
    "# graph"
   ]
  },
  {
   "cell_type": "code",
   "execution_count": 12,
   "id": "663ad796",
   "metadata": {},
   "outputs": [],
   "source": [
    "#hide\n",
    "from nbdev.showdoc import *"
   ]
  },
  {
   "cell_type": "code",
   "execution_count": 20,
   "id": "36d6da7a",
   "metadata": {},
   "outputs": [],
   "source": [
    "#export\n",
    "import json, requests\n",
    "from IPython.display import IFrame\n",
    "import numpy as np\n",
    "nan = np.nan\n",
    "\n",
    "def draw_graph(input_str, url='localhost:5000', width='100%', height='500'):\n",
    "    resp=requests.post(\n",
    "        url='http://{}/graph'.format(url), \n",
    "        data={'data':input_str}\n",
    "    )\n",
    "    return IFrame(resp.url, width=width, height=height)  "
   ]
  },
  {
   "cell_type": "code",
   "execution_count": 21,
   "id": "931cf30b",
   "metadata": {},
   "outputs": [
    {
     "data": {
      "text/plain": [
       "'{\"nodes\": [{\"identifier\": \"GO:0000002\", \"name\": \"mitochondrial genome maintenance\", \"label\": \"BiologicalProcess\", \"source\": \"Gene Ontology:2021-02-01\", \"url\": \"http://purl.obolibrary.org/obo/GO:0000002\", \"license\": \"CC BY 4.0\", \"url3\": NaN, \"location\": NaN, \"xrefs\": NaN, \"synonyms\": NaN, \"pdb\": NaN, \"description\": NaN, \"ensembl_id\": NaN, \"uniprot_id\": NaN, \"url2\": NaN, \"chromosome\": NaN}, {\"identifier\": \"10000\", \"name\": \"AKT3\", \"label\": \"Gene\", \"source\": \"Entrez Gene:20220425\", \"url\": \"http://identifiers.org/ncbigene/10000\", \"license\": \"CCO 1.0\", \"url3\": \"https://genetics.opentargets.org/gene/ENSG00000117020\", \"location\": \"Nucleus(uniprot);Cytoplasm(uniprot);Cytosol(HPA_main)\", \"xrefs\": \"MIM:611223|HGNC:HGNC:393|Ensembl:ENSG00000117020|AllianceGenome:HGNC:393\", \"synonyms\": \"MPPH|MPPH2|PKB-GAMMA|PKBG|PRKBG|RAC-PK-gamma|RAC-gamma|STK-2\", \"pdb\": \"2X18\", \"description\": \"AKT serine/threonine kinase 3\", \"ensembl_id\": \"ENSG00000117020\", \"uniprot_id\": \"Q9Y243;A0A5F9ZHU3\", \"url2\": \"https://www.genecards.org/cgi-bin/carddisp.pl?gene=AKT3\", \"chromosome\": \"1\"}], \"edges\": [{\"type\": \"PARTICIPATES_GpBP\", \"start_identifier\": \"10000\", \"start_name\": \"AKT3\", \"end_identifier\": \"GO:0000002\", \"end_name\": \"mitochondrial genome maintenance\", \"license\": \"CC By 4.0\", \"unbiased\": \"False\", \"is_directional\": \"True\", \"source\": \"NCBI gene2go:2021-02-01\"}]}'"
      ]
     },
     "execution_count": 21,
     "metadata": {},
     "output_type": "execute_result"
    }
   ],
   "source": [
    "graph_json_str=json.dumps({'nodes': [{'identifier': 'GO:0000002',\n",
    "   'name': 'mitochondrial genome maintenance',\n",
    "   'label': 'BiologicalProcess',\n",
    "   'source': 'Gene Ontology:2021-02-01',\n",
    "   'url': 'http://purl.obolibrary.org/obo/GO:0000002',\n",
    "   'license': 'CC BY 4.0',\n",
    "   'url3': nan,\n",
    "   'location': nan,\n",
    "   'xrefs': nan,\n",
    "   'synonyms': nan,\n",
    "   'pdb': nan,\n",
    "   'description': nan,\n",
    "   'ensembl_id': nan,\n",
    "   'uniprot_id': nan,\n",
    "   'url2': nan,\n",
    "   'chromosome': nan},\n",
    "  {'identifier': '10000',\n",
    "   'name': 'AKT3',\n",
    "   'label': 'Gene',\n",
    "   'source': 'Entrez Gene:20220425',\n",
    "   'url': 'http://identifiers.org/ncbigene/10000',\n",
    "   'license': 'CCO 1.0',\n",
    "   'url3': 'https://genetics.opentargets.org/gene/ENSG00000117020',\n",
    "   'location': 'Nucleus(uniprot);Cytoplasm(uniprot);Cytosol(HPA_main)',\n",
    "   'xrefs': 'MIM:611223|HGNC:HGNC:393|Ensembl:ENSG00000117020|AllianceGenome:HGNC:393',\n",
    "   'synonyms': 'MPPH|MPPH2|PKB-GAMMA|PKBG|PRKBG|RAC-PK-gamma|RAC-gamma|STK-2',\n",
    "   'pdb': '2X18',\n",
    "   'description': 'AKT serine/threonine kinase 3',\n",
    "   'ensembl_id': 'ENSG00000117020',\n",
    "   'uniprot_id': 'Q9Y243;A0A5F9ZHU3',\n",
    "   'url2': 'https://www.genecards.org/cgi-bin/carddisp.pl?gene=AKT3',\n",
    "   'chromosome': '1'}],\n",
    " 'edges': [{'type': 'PARTICIPATES_GpBP',\n",
    "   'start_identifier': '10000',\n",
    "   'start_name': 'AKT3',\n",
    "   'end_identifier': 'GO:0000002',\n",
    "   'end_name': 'mitochondrial genome maintenance',\n",
    "   'license': 'CC By 4.0',\n",
    "   'unbiased': 'False',\n",
    "   'is_directional': 'True',\n",
    "   'source': 'NCBI gene2go:2021-02-01'}]})\n",
    "graph_json_str"
   ]
  },
  {
   "cell_type": "code",
   "execution_count": 22,
   "id": "ed72983f",
   "metadata": {},
   "outputs": [
    {
     "data": {
      "text/html": [
       "\n",
       "        <iframe\n",
       "            width=\"100%\"\n",
       "            height=\"500\"\n",
       "            src=\"http://localhost:5000/graph/91b67b4373f06c02839d4ba864a910b2\"\n",
       "            frameborder=\"0\"\n",
       "            allowfullscreen\n",
       "            \n",
       "        ></iframe>\n",
       "        "
      ],
      "text/plain": [
       "<IPython.lib.display.IFrame at 0x7fe7215f71c0>"
      ]
     },
     "execution_count": 22,
     "metadata": {},
     "output_type": "execute_result"
    }
   ],
   "source": [
    "g=draw_graph(graph_json_str)\n",
    "g"
   ]
  },
  {
   "cell_type": "code",
   "execution_count": null,
   "id": "4c0a29b6",
   "metadata": {},
   "outputs": [],
   "source": []
  }
 ],
 "metadata": {
  "kernelspec": {
   "display_name": "Python 3 (ipykernel)",
   "language": "python",
   "name": "python3"
  },
  "language_info": {
   "codemirror_mode": {
    "name": "ipython",
    "version": 3
   },
   "file_extension": ".py",
   "mimetype": "text/x-python",
   "name": "python",
   "nbconvert_exporter": "python",
   "pygments_lexer": "ipython3",
   "version": "3.10.4"
  }
 },
 "nbformat": 4,
 "nbformat_minor": 5
}
