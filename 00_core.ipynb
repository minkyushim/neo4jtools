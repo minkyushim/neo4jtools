{
 "cells": [
  {
   "cell_type": "code",
   "execution_count": null,
   "metadata": {},
   "outputs": [],
   "source": [
    "# default_exp core"
   ]
  },
  {
   "cell_type": "markdown",
   "metadata": {},
   "source": [
    "# Simple Neo4j HTTP API Client\n",
    "\n",
    "> Simple http client to connect neo4j server"
   ]
  },
  {
   "cell_type": "code",
   "execution_count": null,
   "metadata": {},
   "outputs": [],
   "source": [
    "#hide\n",
    "from nbdev.showdoc import *\n"
   ]
  },
  {
   "cell_type": "code",
   "execution_count": null,
   "metadata": {},
   "outputs": [],
   "source": [
    "#export\n",
    "import os,json,base64\n",
    "import requests\n",
    "import pandas as pd\n",
    "from neo4jtools.utils import parse_result_graph\n",
    "\n",
    "class SimpleNeo4jHTTPAPIClient:\n",
    "    \n",
    "    def __init__(self, url, db='neo4j', userid=None, passwd=None):\n",
    "        self.url=url\n",
    "        self.set_serverinfo(url)\n",
    "        self.setdb(db)\n",
    "        self.authtoken=None\n",
    "        if userid is not None:\n",
    "            self.authtoken=self.get_authtoken(userid, passwd)\n",
    "        \n",
    "    def set_serverinfo(self,url):\n",
    "        resp=requests.get(url)\n",
    "        obj=resp.json()\n",
    "        self.bolt_routing=obj['bolt_routing']\n",
    "        self.transaction=obj['transaction']\n",
    "        self.bolt_direct=obj['bolt_direct']\n",
    "        self.neo4j_version=obj['neo4j_version']\n",
    "        self.neo4j_edition=obj['neo4j_edition']\n",
    "\n",
    "    def setdb(self, db):\n",
    "        self.db=db\n",
    "        \n",
    "    def execute_read_query(self, query, output_format=['row','graph']):\n",
    "        url=self.transaction.format(databaseName=self.db) + '/commit'\n",
    "        headers={\n",
    "            \"content-type\": \"application/json\"\n",
    "        }\n",
    "        if self.authtoken is not None:\n",
    "            headers['authorization']=\"Basic {}\".format(self.authtoken)\n",
    "\n",
    "        if isinstance(output_format, list):\n",
    "            resultDataContents = output_format\n",
    "        else:\n",
    "            resultDataContents = [output_format]\n",
    "\n",
    "        statement={\n",
    "          \"statements\": [\n",
    "            {\n",
    "              \"statement\": query,\n",
    "              \"resultDataContents\": resultDataContents\n",
    "            }\n",
    "          ]\n",
    "        }\n",
    "        resp=requests.post(url, \n",
    "                           data=json.dumps(statement), \n",
    "                           headers=headers)\n",
    "\n",
    "        output= resp.json()\n",
    "\n",
    "        if len(output['errors']) > 0: \n",
    "            raise Exception(output['errors'])\n",
    "            \n",
    "        output=output['results'][0]\n",
    "        \n",
    "        if output_format=='graph':\n",
    "            nodes, edges = parse_result_graph(output['data'])\n",
    "            output = {'nodes':nodes, 'edges':edges}\n",
    "        \n",
    "        return output\n",
    "    \n",
    "    def __repr__(self):\n",
    "        return json.dumps({\n",
    "            'classname':self.__class__.__name__,\n",
    "            'url':self.url,\n",
    "            'neo4j_version':self.neo4j_version,\n",
    "            'neo4j_edition':self.neo4j_edition,\n",
    "            'db':self.db,\n",
    "            'auth': self.authtoken is not None\n",
    "        })\n",
    "\n",
    "    @staticmethod\n",
    "    def get_authtoken(userid, passwd):\n",
    "        authstr='{}:{}'.format(userid, passwd)\n",
    "        b64token=base64.b64encode(authstr.encode())\n",
    "        strtoken=b64token.decode()\n",
    "        return strtoken      \n",
    "\n",
    "\n"
   ]
  },
  {
   "cell_type": "markdown",
   "metadata": {},
   "source": [
    "## Simple example"
   ]
  },
  {
   "cell_type": "code",
   "execution_count": null,
   "metadata": {},
   "outputs": [
    {
     "data": {
      "text/plain": [
       "{\"classname\": \"SimpleNeo4jHTTPAPIClient\", \"url\": \"http://localhost:7474\", \"neo4j_version\": \"4.4.3\", \"neo4j_edition\": \"community\", \"db\": \"neo4j\", \"auth\": false}"
      ]
     },
     "execution_count": null,
     "metadata": {},
     "output_type": "execute_result"
    }
   ],
   "source": [
    "# Connect to a neo4j server without auth info\n",
    "client=SimpleNeo4jHTTPAPIClient(url='http://localhost:7474')\n",
    "client"
   ]
  },
  {
   "cell_type": "code",
   "execution_count": null,
   "metadata": {},
   "outputs": [],
   "source": [
    "try:\n",
    "    client.execute_read_query('match (n) return count(n);', output_format=['row'])\n",
    "except Exception as e:\n",
    "    assert e"
   ]
  },
  {
   "cell_type": "code",
   "execution_count": null,
   "metadata": {},
   "outputs": [
    {
     "data": {
      "text/plain": [
       "{\"classname\": \"SimpleNeo4jHTTPAPIClient\", \"url\": \"http://localhost:7474\", \"neo4j_version\": \"4.4.3\", \"neo4j_edition\": \"community\", \"db\": \"neo4j\", \"auth\": true}"
      ]
     },
     "execution_count": null,
     "metadata": {},
     "output_type": "execute_result"
    }
   ],
   "source": [
    "# Connect to a neo4j server with auth info\n",
    "client=SimpleNeo4jHTTPAPIClient(url='http://localhost:7474', userid='neo4j',passwd='test')\n",
    "client"
   ]
  },
  {
   "cell_type": "code",
   "execution_count": null,
   "metadata": {},
   "outputs": [
    {
     "data": {
      "text/plain": [
       "{'columns': ['count(n)'], 'data': [{'row': [85852], 'meta': [None]}]}"
      ]
     },
     "execution_count": null,
     "metadata": {},
     "output_type": "execute_result"
    }
   ],
   "source": [
    "result=client.execute_read_query('match (n) return count(n);', output_format='row')\n",
    "result"
   ]
  },
  {
   "cell_type": "markdown",
   "metadata": {},
   "source": [
    "# Example output_format='graph'"
   ]
  },
  {
   "cell_type": "code",
   "execution_count": null,
   "metadata": {},
   "outputs": [],
   "source": [
    "result=client.execute_read_query('match p=()--() return p limit 3;', output_format='graph')"
   ]
  },
  {
   "cell_type": "code",
   "execution_count": null,
   "metadata": {},
   "outputs": [
    {
     "data": {
      "text/plain": [
       "{'nodes': [{'identifier': '4358',\n",
       "   'license': 'CCO 1.0',\n",
       "   'chromosome': '2',\n",
       "   'name': 'MPV17',\n",
       "   'description': 'mitochondrial inner membrane protein MPV17',\n",
       "   'source': 'Entrez Gene:210321',\n",
       "   'url': 'http://identifiers.org/ncbigene/4358',\n",
       "   'label': 'Gene'},\n",
       "  {'identifier': 'GO:0000002',\n",
       "   'license': 'CC BY 4.0',\n",
       "   'chromosome': nan,\n",
       "   'name': 'mitochondrial genome maintenance',\n",
       "   'description': nan,\n",
       "   'source': 'Gene Ontology:2021-02-01',\n",
       "   'url': 'http://purl.obolibrary.org/obo/GO:0000002',\n",
       "   'label': 'BiologicalProcess'},\n",
       "  {'identifier': '291',\n",
       "   'license': 'CCO 1.0',\n",
       "   'chromosome': '4',\n",
       "   'name': 'SLC25A4',\n",
       "   'description': 'solute carrier family 25 member 4',\n",
       "   'source': 'Entrez Gene:210321',\n",
       "   'url': 'http://identifiers.org/ncbigene/291',\n",
       "   'label': 'Gene'},\n",
       "  {'identifier': '55186',\n",
       "   'license': 'CCO 1.0',\n",
       "   'chromosome': '3',\n",
       "   'name': 'SLC25A36',\n",
       "   'description': 'solute carrier family 25 member 36',\n",
       "   'source': 'Entrez Gene:210321',\n",
       "   'url': 'http://identifiers.org/ncbigene/55186',\n",
       "   'label': 'Gene'}],\n",
       " 'edges': [{'type': 'PARTICIPATES_GpBP',\n",
       "   'start_identifier': '4358',\n",
       "   'start_name': 'MPV17',\n",
       "   'end_identifier': 'GO:0000002',\n",
       "   'end_name': 'mitochondrial genome maintenance',\n",
       "   'license': 'CC By 4.0',\n",
       "   'unbiased': 'False',\n",
       "   'source': 'NCBI gene2go',\n",
       "   'version': '2021-02-01'},\n",
       "  {'type': 'PARTICIPATES_GpBP',\n",
       "   'start_identifier': '291',\n",
       "   'start_name': 'SLC25A4',\n",
       "   'end_identifier': 'GO:0000002',\n",
       "   'end_name': 'mitochondrial genome maintenance',\n",
       "   'license': 'CC By 4.0',\n",
       "   'unbiased': 'False',\n",
       "   'source': 'NCBI gene2go',\n",
       "   'version': '2021-02-01'},\n",
       "  {'type': 'PARTICIPATES_GpBP',\n",
       "   'start_identifier': '55186',\n",
       "   'start_name': 'SLC25A36',\n",
       "   'end_identifier': 'GO:0000002',\n",
       "   'end_name': 'mitochondrial genome maintenance',\n",
       "   'license': 'CC By 4.0',\n",
       "   'unbiased': 'False',\n",
       "   'source': 'NCBI gene2go',\n",
       "   'version': '2021-02-01'}]}"
      ]
     },
     "execution_count": null,
     "metadata": {},
     "output_type": "execute_result"
    }
   ],
   "source": [
    "result"
   ]
  },
  {
   "cell_type": "code",
   "execution_count": null,
   "metadata": {},
   "outputs": [
    {
     "data": {
      "text/html": [
       "<div>\n",
       "<style scoped>\n",
       "    .dataframe tbody tr th:only-of-type {\n",
       "        vertical-align: middle;\n",
       "    }\n",
       "\n",
       "    .dataframe tbody tr th {\n",
       "        vertical-align: top;\n",
       "    }\n",
       "\n",
       "    .dataframe thead th {\n",
       "        text-align: right;\n",
       "    }\n",
       "</style>\n",
       "<table border=\"1\" class=\"dataframe\">\n",
       "  <thead>\n",
       "    <tr style=\"text-align: right;\">\n",
       "      <th></th>\n",
       "      <th>identifier</th>\n",
       "      <th>license</th>\n",
       "      <th>chromosome</th>\n",
       "      <th>name</th>\n",
       "      <th>description</th>\n",
       "      <th>source</th>\n",
       "      <th>url</th>\n",
       "      <th>label</th>\n",
       "    </tr>\n",
       "  </thead>\n",
       "  <tbody>\n",
       "    <tr>\n",
       "      <th>0</th>\n",
       "      <td>4358</td>\n",
       "      <td>CCO 1.0</td>\n",
       "      <td>2</td>\n",
       "      <td>MPV17</td>\n",
       "      <td>mitochondrial inner membrane protein MPV17</td>\n",
       "      <td>Entrez Gene:210321</td>\n",
       "      <td>http://identifiers.org/ncbigene/4358</td>\n",
       "      <td>Gene</td>\n",
       "    </tr>\n",
       "    <tr>\n",
       "      <th>1</th>\n",
       "      <td>GO:0000002</td>\n",
       "      <td>CC BY 4.0</td>\n",
       "      <td>NaN</td>\n",
       "      <td>mitochondrial genome maintenance</td>\n",
       "      <td>NaN</td>\n",
       "      <td>Gene Ontology:2021-02-01</td>\n",
       "      <td>http://purl.obolibrary.org/obo/GO:0000002</td>\n",
       "      <td>BiologicalProcess</td>\n",
       "    </tr>\n",
       "    <tr>\n",
       "      <th>2</th>\n",
       "      <td>291</td>\n",
       "      <td>CCO 1.0</td>\n",
       "      <td>4</td>\n",
       "      <td>SLC25A4</td>\n",
       "      <td>solute carrier family 25 member 4</td>\n",
       "      <td>Entrez Gene:210321</td>\n",
       "      <td>http://identifiers.org/ncbigene/291</td>\n",
       "      <td>Gene</td>\n",
       "    </tr>\n",
       "    <tr>\n",
       "      <th>3</th>\n",
       "      <td>55186</td>\n",
       "      <td>CCO 1.0</td>\n",
       "      <td>3</td>\n",
       "      <td>SLC25A36</td>\n",
       "      <td>solute carrier family 25 member 36</td>\n",
       "      <td>Entrez Gene:210321</td>\n",
       "      <td>http://identifiers.org/ncbigene/55186</td>\n",
       "      <td>Gene</td>\n",
       "    </tr>\n",
       "  </tbody>\n",
       "</table>\n",
       "</div>"
      ],
      "text/plain": [
       "   identifier    license chromosome                              name  \\\n",
       "0        4358    CCO 1.0          2                             MPV17   \n",
       "1  GO:0000002  CC BY 4.0        NaN  mitochondrial genome maintenance   \n",
       "2         291    CCO 1.0          4                           SLC25A4   \n",
       "3       55186    CCO 1.0          3                          SLC25A36   \n",
       "\n",
       "                                  description                    source  \\\n",
       "0  mitochondrial inner membrane protein MPV17        Entrez Gene:210321   \n",
       "1                                         NaN  Gene Ontology:2021-02-01   \n",
       "2           solute carrier family 25 member 4        Entrez Gene:210321   \n",
       "3          solute carrier family 25 member 36        Entrez Gene:210321   \n",
       "\n",
       "                                         url              label  \n",
       "0       http://identifiers.org/ncbigene/4358               Gene  \n",
       "1  http://purl.obolibrary.org/obo/GO:0000002  BiologicalProcess  \n",
       "2        http://identifiers.org/ncbigene/291               Gene  \n",
       "3      http://identifiers.org/ncbigene/55186               Gene  "
      ]
     },
     "execution_count": null,
     "metadata": {},
     "output_type": "execute_result"
    }
   ],
   "source": [
    "pd.DataFrame(result['nodes'])"
   ]
  },
  {
   "cell_type": "code",
   "execution_count": null,
   "metadata": {},
   "outputs": [
    {
     "data": {
      "text/html": [
       "<div>\n",
       "<style scoped>\n",
       "    .dataframe tbody tr th:only-of-type {\n",
       "        vertical-align: middle;\n",
       "    }\n",
       "\n",
       "    .dataframe tbody tr th {\n",
       "        vertical-align: top;\n",
       "    }\n",
       "\n",
       "    .dataframe thead th {\n",
       "        text-align: right;\n",
       "    }\n",
       "</style>\n",
       "<table border=\"1\" class=\"dataframe\">\n",
       "  <thead>\n",
       "    <tr style=\"text-align: right;\">\n",
       "      <th></th>\n",
       "      <th>type</th>\n",
       "      <th>start_identifier</th>\n",
       "      <th>start_name</th>\n",
       "      <th>end_identifier</th>\n",
       "      <th>end_name</th>\n",
       "      <th>license</th>\n",
       "      <th>unbiased</th>\n",
       "      <th>source</th>\n",
       "      <th>version</th>\n",
       "    </tr>\n",
       "  </thead>\n",
       "  <tbody>\n",
       "    <tr>\n",
       "      <th>0</th>\n",
       "      <td>PARTICIPATES_GpBP</td>\n",
       "      <td>4358</td>\n",
       "      <td>MPV17</td>\n",
       "      <td>GO:0000002</td>\n",
       "      <td>mitochondrial genome maintenance</td>\n",
       "      <td>CC By 4.0</td>\n",
       "      <td>False</td>\n",
       "      <td>NCBI gene2go</td>\n",
       "      <td>2021-02-01</td>\n",
       "    </tr>\n",
       "    <tr>\n",
       "      <th>1</th>\n",
       "      <td>PARTICIPATES_GpBP</td>\n",
       "      <td>291</td>\n",
       "      <td>SLC25A4</td>\n",
       "      <td>GO:0000002</td>\n",
       "      <td>mitochondrial genome maintenance</td>\n",
       "      <td>CC By 4.0</td>\n",
       "      <td>False</td>\n",
       "      <td>NCBI gene2go</td>\n",
       "      <td>2021-02-01</td>\n",
       "    </tr>\n",
       "    <tr>\n",
       "      <th>2</th>\n",
       "      <td>PARTICIPATES_GpBP</td>\n",
       "      <td>55186</td>\n",
       "      <td>SLC25A36</td>\n",
       "      <td>GO:0000002</td>\n",
       "      <td>mitochondrial genome maintenance</td>\n",
       "      <td>CC By 4.0</td>\n",
       "      <td>False</td>\n",
       "      <td>NCBI gene2go</td>\n",
       "      <td>2021-02-01</td>\n",
       "    </tr>\n",
       "  </tbody>\n",
       "</table>\n",
       "</div>"
      ],
      "text/plain": [
       "                type start_identifier start_name end_identifier  \\\n",
       "0  PARTICIPATES_GpBP             4358      MPV17     GO:0000002   \n",
       "1  PARTICIPATES_GpBP              291    SLC25A4     GO:0000002   \n",
       "2  PARTICIPATES_GpBP            55186   SLC25A36     GO:0000002   \n",
       "\n",
       "                           end_name    license unbiased        source  \\\n",
       "0  mitochondrial genome maintenance  CC By 4.0    False  NCBI gene2go   \n",
       "1  mitochondrial genome maintenance  CC By 4.0    False  NCBI gene2go   \n",
       "2  mitochondrial genome maintenance  CC By 4.0    False  NCBI gene2go   \n",
       "\n",
       "      version  \n",
       "0  2021-02-01  \n",
       "1  2021-02-01  \n",
       "2  2021-02-01  "
      ]
     },
     "execution_count": null,
     "metadata": {},
     "output_type": "execute_result"
    }
   ],
   "source": [
    "pd.DataFrame(result['edges'])"
   ]
  },
  {
   "cell_type": "code",
   "execution_count": null,
   "metadata": {},
   "outputs": [],
   "source": []
  }
 ],
 "metadata": {
  "kernelspec": {
   "display_name": "Python 3 (ipykernel)",
   "language": "python",
   "name": "python3"
  }
 },
 "nbformat": 4,
 "nbformat_minor": 2
}
