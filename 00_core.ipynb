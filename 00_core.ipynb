{
 "cells": [
  {
   "cell_type": "code",
   "execution_count": null,
   "metadata": {},
   "outputs": [],
   "source": [
    "# default_exp core"
   ]
  },
  {
   "cell_type": "markdown",
   "metadata": {},
   "source": [
    "# Simple Neo4j HTTP API Client\n",
    "\n",
    "> Simple http client to connect neo4j server"
   ]
  },
  {
   "cell_type": "code",
   "execution_count": null,
   "metadata": {},
   "outputs": [],
   "source": [
    "#hide\n",
    "from nbdev.showdoc import *"
   ]
  },
  {
   "cell_type": "code",
   "execution_count": 1,
   "metadata": {},
   "outputs": [],
   "source": [
    "#export\n",
    "import os,json,base64\n",
    "import requests\n",
    "class SimpleNeo4jHTTPAPIClient:\n",
    "    @staticmethod\n",
    "    def get_authtoken(userid, passwd):\n",
    "        authstr='{}:{}'.format(userid, passwd)\n",
    "        b64token=base64.b64encode(authstr.encode())\n",
    "        strtoken=b64token.decode()\n",
    "        return strtoken\n",
    "    \n",
    "    def __init__(self, url, db='neo4j', userid=None, passwd=None):\n",
    "        self.url=url\n",
    "        self.set_serverinfo(url)\n",
    "        self.setdb(db)\n",
    "        self.authtoken=None\n",
    "        if userid is not None:\n",
    "            self.authtoken=self.get_authtoken(userid, passwd)\n",
    "        \n",
    "    def set_serverinfo(self,url):\n",
    "        resp=requests.get(url)\n",
    "        obj=resp.json()\n",
    "        self.bolt_routing=obj['bolt_routing']\n",
    "        self.transaction=obj['transaction']\n",
    "        self.bolt_direct=obj['bolt_direct']\n",
    "        self.neo4j_version=obj['neo4j_version']\n",
    "        self.neo4j_edition=obj['neo4j_edition']\n",
    "\n",
    "    def setdb(self, db):\n",
    "        self.db=db\n",
    "        \n",
    "    def execute_read_query(self, query):\n",
    "\n",
    "        url=self.transaction.format(databaseName=self.db) + '/commit'\n",
    "\n",
    "        headers={\n",
    "            \"content-type\": \"application/json\"\n",
    "        }\n",
    "\n",
    "        if self.authtoken is not None:\n",
    "            headers['authorization']=\"Basic {}\".format(self.authtoken)\n",
    "\n",
    "        statement={\n",
    "          \"statements\": [\n",
    "            {\n",
    "              \"statement\": query,\n",
    "              \"resultDataContents\": [\"row\", \"graph\"]\n",
    "            }\n",
    "          ]\n",
    "        }\n",
    "        resp=requests.post(url, \n",
    "                           data=json.dumps(statement), \n",
    "                           headers=headers)\n",
    "\n",
    "        return resp.json()\n",
    "    \n",
    "    def __repr__(self):\n",
    "        return json.dumps({\n",
    "            'classname':self.__class__.__name__,\n",
    "            'url':self.url,\n",
    "            'neo4j_version':self.neo4j_version,\n",
    "            'neo4j_edition':self.neo4j_edition,\n",
    "            'db':self.db,\n",
    "            'auth': self.authtoken is not None\n",
    "        })"
   ]
  },
  {
   "cell_type": "markdown",
   "metadata": {},
   "source": [
    "## Samples"
   ]
  },
  {
   "cell_type": "code",
   "execution_count": 12,
   "metadata": {},
   "outputs": [
    {
     "data": {
      "text/plain": [
       "{\"classname\": \"SimpleNeo4jHTTPAPIClient\", \"url\": \"http://localhost:7474\", \"neo4j_version\": \"4.4.3\", \"neo4j_edition\": \"community\", \"db\": \"neo4j\", \"auth\": false}"
      ]
     },
     "execution_count": 12,
     "metadata": {},
     "output_type": "execute_result"
    }
   ],
   "source": [
    "# Connect to a neo4j server without auth info\n",
    "client=SimpleNeo4jHTTPAPIClient(url='http://localhost:7474')\n",
    "client"
   ]
  },
  {
   "cell_type": "code",
   "execution_count": 13,
   "metadata": {},
   "outputs": [
    {
     "data": {
      "text/plain": [
       "{'errors': [{'code': 'Neo.ClientError.Security.Unauthorized',\n",
       "   'message': 'No authentication header supplied.'}]}"
      ]
     },
     "execution_count": 13,
     "metadata": {},
     "output_type": "execute_result"
    }
   ],
   "source": [
    "result=client.execute_read_query('match (n) return count(n);')\n",
    "result"
   ]
  },
  {
   "cell_type": "code",
   "execution_count": 14,
   "metadata": {},
   "outputs": [],
   "source": [
    "assert len(result['errors']) > 0"
   ]
  },
  {
   "cell_type": "code",
   "execution_count": 4,
   "metadata": {},
   "outputs": [
    {
     "data": {
      "text/plain": [
       "{\"classname\": \"SimpleNeo4jHTTPAPIClient\", \"url\": \"http://localhost:7474\", \"neo4j_version\": \"4.4.3\", \"neo4j_edition\": \"community\", \"db\": \"neo4j\", \"auth\": true}"
      ]
     },
     "execution_count": 4,
     "metadata": {},
     "output_type": "execute_result"
    }
   ],
   "source": [
    "# Connect to a neo4j server with auth info\n",
    "client=SimpleNeo4jHTTPAPIClient(url='http://localhost:7474', userid='neo4j',passwd='test')\n",
    "client"
   ]
  },
  {
   "cell_type": "code",
   "execution_count": 6,
   "metadata": {},
   "outputs": [
    {
     "data": {
      "text/plain": [
       "{'results': [{'columns': ['count(n)'],\n",
       "   'data': [{'row': [85041],\n",
       "     'meta': [None],\n",
       "     'graph': {'nodes': [], 'relationships': []}}]}],\n",
       " 'errors': []}"
      ]
     },
     "execution_count": 6,
     "metadata": {},
     "output_type": "execute_result"
    }
   ],
   "source": [
    "result=client.execute_read_query('match (n) return count(n);')\n",
    "result"
   ]
  },
  {
   "cell_type": "code",
   "execution_count": 7,
   "metadata": {},
   "outputs": [],
   "source": [
    "assert len(result['errors']) == 0"
   ]
  },
  {
   "cell_type": "code",
   "execution_count": null,
   "metadata": {},
   "outputs": [],
   "source": []
  }
 ],
 "metadata": {
  "kernelspec": {
   "display_name": "Python 3 (ipykernel)",
   "language": "python",
   "name": "python3"
  },
  "language_info": {
   "codemirror_mode": {
    "name": "ipython",
    "version": 3
   },
   "file_extension": ".py",
   "mimetype": "text/x-python",
   "name": "python",
   "nbconvert_exporter": "python",
   "pygments_lexer": "ipython3",
   "version": "3.8.0"
  }
 },
 "nbformat": 4,
 "nbformat_minor": 2
}
