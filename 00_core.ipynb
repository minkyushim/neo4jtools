{
 "cells": [
  {
   "cell_type": "code",
   "execution_count": null,
   "metadata": {},
   "outputs": [],
   "source": [
    "# default_exp core"
   ]
  },
  {
   "cell_type": "markdown",
   "metadata": {},
   "source": [
    "# Simple Neo4j HTTP API Client\n",
    "\n",
    "> Simple http client to connect neo4j server"
   ]
  },
  {
   "cell_type": "code",
   "execution_count": null,
   "metadata": {},
   "outputs": [],
   "source": [
    "#hide\n",
    "from nbdev.showdoc import *"
   ]
  },
  {
   "cell_type": "code",
   "execution_count": null,
   "metadata": {},
   "outputs": [],
   "source": [
    "#export\n",
    "import os,json,base64\n",
    "import requests\n",
    "import pandas as pd\n",
    "from neo4jtools.utils import graph_renderer, row_renderer, draw\n",
    "\n",
    "class SimpleNeo4jHTTPAPIClient:\n",
    "    \n",
    "    def __init__(self, url, db='neo4j', userid=None, passwd=None):\n",
    "        self.url=url\n",
    "        self.set_serverinfo(url)\n",
    "        self.setdb(db)\n",
    "        self.authtoken=None\n",
    "        if userid is not None:\n",
    "            self.authtoken=self.get_authtoken(userid, passwd)\n",
    "        \n",
    "    def set_serverinfo(self,url):\n",
    "        resp=requests.get(url)\n",
    "        obj=resp.json()\n",
    "        self.bolt_routing=obj['bolt_routing']\n",
    "        self.transaction=obj['transaction']\n",
    "        self.bolt_direct=obj['bolt_direct']\n",
    "        self.neo4j_version=obj['neo4j_version']\n",
    "        self.neo4j_edition=obj['neo4j_edition']\n",
    "\n",
    "    def setdb(self, db):\n",
    "        self.db=db\n",
    "        \n",
    "    def execute_read_query(self, query, output_format=['row','graph']):\n",
    "        url=self.transaction.format(databaseName=self.db) + '/commit'\n",
    "        headers={\n",
    "            \"content-type\": \"application/json\"\n",
    "        }\n",
    "        if self.authtoken is not None:\n",
    "            headers['authorization']=\"Basic {}\".format(self.authtoken)\n",
    "\n",
    "        if isinstance(output_format, list):\n",
    "            resultDataContents = output_format\n",
    "        else:\n",
    "            resultDataContents = [output_format]\n",
    "\n",
    "        statement={\n",
    "          \"statements\": [\n",
    "            {\n",
    "              \"statement\": query,\n",
    "              \"resultDataContents\": resultDataContents\n",
    "            }\n",
    "          ]\n",
    "        }\n",
    "        resp=requests.post(url, \n",
    "                           data=json.dumps(statement), \n",
    "                           headers=headers)\n",
    "\n",
    "        output= resp.json()\n",
    "\n",
    "        if len(output['errors']) > 0: \n",
    "            raise Exception(output['errors'])\n",
    "            \n",
    "        \n",
    "        output_renderer=None\n",
    "        if output_format=='row':\n",
    "            output_renderer=row_renderer\n",
    "                    \n",
    "        if output_format=='graph':\n",
    "            output_renderer=graph_renderer\n",
    "        \n",
    "        if output_renderer:\n",
    "            output=output_renderer(output)\n",
    "        \n",
    "        return output\n",
    "    \n",
    "    def show(self, query):\n",
    "        graph= self.execute_read_query(query, output_format='graph')\n",
    "        return draw([graph])\n",
    "    \n",
    "    \n",
    "    def __repr__(self):\n",
    "        return json.dumps({\n",
    "            'classname':self.__class__.__name__,\n",
    "            'url':self.url,\n",
    "            'neo4j_version':self.neo4j_version,\n",
    "            'neo4j_edition':self.neo4j_edition,\n",
    "            'db':self.db,\n",
    "            'auth': self.authtoken is not None\n",
    "        })\n",
    "\n",
    "    @staticmethod\n",
    "    def get_authtoken(userid, passwd):\n",
    "        authstr='{}:{}'.format(userid, passwd)\n",
    "        b64token=base64.b64encode(authstr.encode())\n",
    "        strtoken=b64token.decode()\n",
    "        return strtoken"
   ]
  },
  {
   "cell_type": "markdown",
   "metadata": {},
   "source": [
    "## Simple example"
   ]
  },
  {
   "cell_type": "code",
   "execution_count": null,
   "metadata": {},
   "outputs": [
    {
     "data": {
      "text/plain": [
       "{\"classname\": \"SimpleNeo4jHTTPAPIClient\", \"url\": \"http://localhost:7474\", \"neo4j_version\": \"4.4.3\", \"neo4j_edition\": \"community\", \"db\": \"neo4j\", \"auth\": false}"
      ]
     },
     "execution_count": null,
     "metadata": {},
     "output_type": "execute_result"
    }
   ],
   "source": [
    "# Connect to a neo4j server without auth info\n",
    "client=SimpleNeo4jHTTPAPIClient(url='http://localhost:7474')\n",
    "client"
   ]
  },
  {
   "cell_type": "code",
   "execution_count": null,
   "metadata": {},
   "outputs": [],
   "source": [
    "try:\n",
    "    client.execute_read_query('match (n) return count(n);', output_format=['row'])\n",
    "except Exception as e:\n",
    "    assert e"
   ]
  },
  {
   "cell_type": "code",
   "execution_count": null,
   "metadata": {},
   "outputs": [
    {
     "data": {
      "text/plain": [
       "{\"classname\": \"SimpleNeo4jHTTPAPIClient\", \"url\": \"http://localhost:7474\", \"neo4j_version\": \"4.4.3\", \"neo4j_edition\": \"community\", \"db\": \"neo4j\", \"auth\": true}"
      ]
     },
     "execution_count": null,
     "metadata": {},
     "output_type": "execute_result"
    }
   ],
   "source": [
    "# Connect to a neo4j server with auth info\n",
    "client=SimpleNeo4jHTTPAPIClient(url='http://localhost:7474', userid='neo4j',passwd='test')\n",
    "client"
   ]
  },
  {
   "cell_type": "code",
   "execution_count": null,
   "metadata": {},
   "outputs": [
    {
     "data": {
      "text/plain": [
       "{'results': [{'columns': ['count(n)'],\n",
       "   'data': [{'row': [85852],\n",
       "     'meta': [None],\n",
       "     'graph': {'nodes': [], 'relationships': []}}]}],\n",
       " 'errors': []}"
      ]
     },
     "execution_count": null,
     "metadata": {},
     "output_type": "execute_result"
    }
   ],
   "source": [
    "result=client.execute_read_query('match (n) return count(n);')\n",
    "result"
   ]
  },
  {
   "cell_type": "markdown",
   "metadata": {},
   "source": [
    "## `row_renderer` (output_format='row') example"
   ]
  },
  {
   "cell_type": "code",
   "execution_count": null,
   "metadata": {},
   "outputs": [
    {
     "data": {
      "text/plain": [
       "[{'n.identifier': 'GO:0000002',\n",
       "  'n.name': 'mitochondrial genome maintenance',\n",
       "  'type(r)': 'PARTICIPATES_GpBP',\n",
       "  'm.identifier': '4358',\n",
       "  'm.name': 'MPV17'},\n",
       " {'n.identifier': 'GO:0000002',\n",
       "  'n.name': 'mitochondrial genome maintenance',\n",
       "  'type(r)': 'PARTICIPATES_GpBP',\n",
       "  'm.identifier': '291',\n",
       "  'm.name': 'SLC25A4'},\n",
       " {'n.identifier': 'GO:0000002',\n",
       "  'n.name': 'mitochondrial genome maintenance',\n",
       "  'type(r)': 'PARTICIPATES_GpBP',\n",
       "  'm.identifier': '55186',\n",
       "  'm.name': 'SLC25A36'}]"
      ]
     },
     "execution_count": null,
     "metadata": {},
     "output_type": "execute_result"
    }
   ],
   "source": [
    "result=client.execute_read_query('match p=(n)-[r]-(m) return n.identifier, n.name, type(r), m.identifier, m.name limit 3;', output_format='row')\n",
    "result"
   ]
  },
  {
   "cell_type": "code",
   "execution_count": null,
   "metadata": {},
   "outputs": [
    {
     "data": {
      "text/html": [
       "<div>\n",
       "<style scoped>\n",
       "    .dataframe tbody tr th:only-of-type {\n",
       "        vertical-align: middle;\n",
       "    }\n",
       "\n",
       "    .dataframe tbody tr th {\n",
       "        vertical-align: top;\n",
       "    }\n",
       "\n",
       "    .dataframe thead th {\n",
       "        text-align: right;\n",
       "    }\n",
       "</style>\n",
       "<table border=\"1\" class=\"dataframe\">\n",
       "  <thead>\n",
       "    <tr style=\"text-align: right;\">\n",
       "      <th></th>\n",
       "      <th>n.identifier</th>\n",
       "      <th>n.name</th>\n",
       "      <th>type(r)</th>\n",
       "      <th>m.identifier</th>\n",
       "      <th>m.name</th>\n",
       "    </tr>\n",
       "  </thead>\n",
       "  <tbody>\n",
       "    <tr>\n",
       "      <th>0</th>\n",
       "      <td>GO:0000002</td>\n",
       "      <td>mitochondrial genome maintenance</td>\n",
       "      <td>PARTICIPATES_GpBP</td>\n",
       "      <td>4358</td>\n",
       "      <td>MPV17</td>\n",
       "    </tr>\n",
       "    <tr>\n",
       "      <th>1</th>\n",
       "      <td>GO:0000002</td>\n",
       "      <td>mitochondrial genome maintenance</td>\n",
       "      <td>PARTICIPATES_GpBP</td>\n",
       "      <td>291</td>\n",
       "      <td>SLC25A4</td>\n",
       "    </tr>\n",
       "    <tr>\n",
       "      <th>2</th>\n",
       "      <td>GO:0000002</td>\n",
       "      <td>mitochondrial genome maintenance</td>\n",
       "      <td>PARTICIPATES_GpBP</td>\n",
       "      <td>55186</td>\n",
       "      <td>SLC25A36</td>\n",
       "    </tr>\n",
       "  </tbody>\n",
       "</table>\n",
       "</div>"
      ],
      "text/plain": [
       "  n.identifier                            n.name            type(r)  \\\n",
       "0   GO:0000002  mitochondrial genome maintenance  PARTICIPATES_GpBP   \n",
       "1   GO:0000002  mitochondrial genome maintenance  PARTICIPATES_GpBP   \n",
       "2   GO:0000002  mitochondrial genome maintenance  PARTICIPATES_GpBP   \n",
       "\n",
       "  m.identifier    m.name  \n",
       "0         4358     MPV17  \n",
       "1          291   SLC25A4  \n",
       "2        55186  SLC25A36  "
      ]
     },
     "execution_count": null,
     "metadata": {},
     "output_type": "execute_result"
    }
   ],
   "source": [
    "pd.DataFrame(result)"
   ]
  },
  {
   "cell_type": "markdown",
   "metadata": {},
   "source": [
    "## `graph_renderer` (output_format='graph') example"
   ]
  },
  {
   "cell_type": "code",
   "execution_count": null,
   "metadata": {},
   "outputs": [
    {
     "data": {
      "text/plain": [
       "{'nodes': [{'identifier': '4358',\n",
       "   'name': 'MPV17',\n",
       "   'label': 'Gene',\n",
       "   'license': 'CCO 1.0',\n",
       "   'source': 'Entrez Gene:210321',\n",
       "   'minkyu_degree': 14.0,\n",
       "   'url': 'http://identifiers.org/ncbigene/4358',\n",
       "   'description': 'mitochondrial inner membrane protein MPV17',\n",
       "   'chromosome': '2'},\n",
       "  {'identifier': 'GO:0000002',\n",
       "   'name': 'mitochondrial genome maintenance',\n",
       "   'label': 'BiologicalProcess',\n",
       "   'license': 'CC BY 4.0',\n",
       "   'source': 'Gene Ontology:2021-02-01',\n",
       "   'minkyu_degree': nan,\n",
       "   'url': 'http://purl.obolibrary.org/obo/GO:0000002',\n",
       "   'description': nan,\n",
       "   'chromosome': nan},\n",
       "  {'identifier': '291',\n",
       "   'name': 'SLC25A4',\n",
       "   'label': 'Gene',\n",
       "   'license': 'CCO 1.0',\n",
       "   'source': 'Entrez Gene:210321',\n",
       "   'minkyu_degree': 123.0,\n",
       "   'url': 'http://identifiers.org/ncbigene/291',\n",
       "   'description': 'solute carrier family 25 member 4',\n",
       "   'chromosome': '4'},\n",
       "  {'identifier': '55186',\n",
       "   'name': 'SLC25A36',\n",
       "   'label': 'Gene',\n",
       "   'license': 'CCO 1.0',\n",
       "   'source': 'Entrez Gene:210321',\n",
       "   'minkyu_degree': 2.0,\n",
       "   'url': 'http://identifiers.org/ncbigene/55186',\n",
       "   'description': 'solute carrier family 25 member 36',\n",
       "   'chromosome': '3'}],\n",
       " 'edges': [{'type': 'PARTICIPATES_GpBP',\n",
       "   'start_identifier': '4358',\n",
       "   'start_name': 'MPV17',\n",
       "   'end_identifier': 'GO:0000002',\n",
       "   'end_name': 'mitochondrial genome maintenance',\n",
       "   'license': 'CC By 4.0',\n",
       "   'unbiased': 'False',\n",
       "   'source': 'NCBI gene2go',\n",
       "   'version': '2021-02-01'},\n",
       "  {'type': 'PARTICIPATES_GpBP',\n",
       "   'start_identifier': '291',\n",
       "   'start_name': 'SLC25A4',\n",
       "   'end_identifier': 'GO:0000002',\n",
       "   'end_name': 'mitochondrial genome maintenance',\n",
       "   'license': 'CC By 4.0',\n",
       "   'unbiased': 'False',\n",
       "   'source': 'NCBI gene2go',\n",
       "   'version': '2021-02-01'},\n",
       "  {'type': 'PARTICIPATES_GpBP',\n",
       "   'start_identifier': '55186',\n",
       "   'start_name': 'SLC25A36',\n",
       "   'end_identifier': 'GO:0000002',\n",
       "   'end_name': 'mitochondrial genome maintenance',\n",
       "   'license': 'CC By 4.0',\n",
       "   'unbiased': 'False',\n",
       "   'source': 'NCBI gene2go',\n",
       "   'version': '2021-02-01'}]}"
      ]
     },
     "execution_count": null,
     "metadata": {},
     "output_type": "execute_result"
    }
   ],
   "source": [
    "result=client.execute_read_query('match p=()--() return p limit 3;', output_format='graph')\n",
    "result"
   ]
  },
  {
   "cell_type": "code",
   "execution_count": null,
   "metadata": {},
   "outputs": [],
   "source": [
    "assert 'nodes' in result and 'edges' in result"
   ]
  },
  {
   "cell_type": "code",
   "execution_count": null,
   "metadata": {},
   "outputs": [
    {
     "data": {
      "text/html": [
       "<div>\n",
       "<style scoped>\n",
       "    .dataframe tbody tr th:only-of-type {\n",
       "        vertical-align: middle;\n",
       "    }\n",
       "\n",
       "    .dataframe tbody tr th {\n",
       "        vertical-align: top;\n",
       "    }\n",
       "\n",
       "    .dataframe thead th {\n",
       "        text-align: right;\n",
       "    }\n",
       "</style>\n",
       "<table border=\"1\" class=\"dataframe\">\n",
       "  <thead>\n",
       "    <tr style=\"text-align: right;\">\n",
       "      <th></th>\n",
       "      <th>identifier</th>\n",
       "      <th>name</th>\n",
       "      <th>label</th>\n",
       "      <th>license</th>\n",
       "      <th>source</th>\n",
       "      <th>minkyu_degree</th>\n",
       "      <th>url</th>\n",
       "      <th>description</th>\n",
       "      <th>chromosome</th>\n",
       "    </tr>\n",
       "  </thead>\n",
       "  <tbody>\n",
       "    <tr>\n",
       "      <th>0</th>\n",
       "      <td>4358</td>\n",
       "      <td>MPV17</td>\n",
       "      <td>Gene</td>\n",
       "      <td>CCO 1.0</td>\n",
       "      <td>Entrez Gene:210321</td>\n",
       "      <td>14.0</td>\n",
       "      <td>http://identifiers.org/ncbigene/4358</td>\n",
       "      <td>mitochondrial inner membrane protein MPV17</td>\n",
       "      <td>2</td>\n",
       "    </tr>\n",
       "    <tr>\n",
       "      <th>1</th>\n",
       "      <td>GO:0000002</td>\n",
       "      <td>mitochondrial genome maintenance</td>\n",
       "      <td>BiologicalProcess</td>\n",
       "      <td>CC BY 4.0</td>\n",
       "      <td>Gene Ontology:2021-02-01</td>\n",
       "      <td>NaN</td>\n",
       "      <td>http://purl.obolibrary.org/obo/GO:0000002</td>\n",
       "      <td>NaN</td>\n",
       "      <td>NaN</td>\n",
       "    </tr>\n",
       "    <tr>\n",
       "      <th>2</th>\n",
       "      <td>291</td>\n",
       "      <td>SLC25A4</td>\n",
       "      <td>Gene</td>\n",
       "      <td>CCO 1.0</td>\n",
       "      <td>Entrez Gene:210321</td>\n",
       "      <td>123.0</td>\n",
       "      <td>http://identifiers.org/ncbigene/291</td>\n",
       "      <td>solute carrier family 25 member 4</td>\n",
       "      <td>4</td>\n",
       "    </tr>\n",
       "    <tr>\n",
       "      <th>3</th>\n",
       "      <td>55186</td>\n",
       "      <td>SLC25A36</td>\n",
       "      <td>Gene</td>\n",
       "      <td>CCO 1.0</td>\n",
       "      <td>Entrez Gene:210321</td>\n",
       "      <td>2.0</td>\n",
       "      <td>http://identifiers.org/ncbigene/55186</td>\n",
       "      <td>solute carrier family 25 member 36</td>\n",
       "      <td>3</td>\n",
       "    </tr>\n",
       "  </tbody>\n",
       "</table>\n",
       "</div>"
      ],
      "text/plain": [
       "   identifier                              name              label    license  \\\n",
       "0        4358                             MPV17               Gene    CCO 1.0   \n",
       "1  GO:0000002  mitochondrial genome maintenance  BiologicalProcess  CC BY 4.0   \n",
       "2         291                           SLC25A4               Gene    CCO 1.0   \n",
       "3       55186                          SLC25A36               Gene    CCO 1.0   \n",
       "\n",
       "                     source  minkyu_degree  \\\n",
       "0        Entrez Gene:210321           14.0   \n",
       "1  Gene Ontology:2021-02-01            NaN   \n",
       "2        Entrez Gene:210321          123.0   \n",
       "3        Entrez Gene:210321            2.0   \n",
       "\n",
       "                                         url  \\\n",
       "0       http://identifiers.org/ncbigene/4358   \n",
       "1  http://purl.obolibrary.org/obo/GO:0000002   \n",
       "2        http://identifiers.org/ncbigene/291   \n",
       "3      http://identifiers.org/ncbigene/55186   \n",
       "\n",
       "                                  description chromosome  \n",
       "0  mitochondrial inner membrane protein MPV17          2  \n",
       "1                                         NaN        NaN  \n",
       "2           solute carrier family 25 member 4          4  \n",
       "3          solute carrier family 25 member 36          3  "
      ]
     },
     "execution_count": null,
     "metadata": {},
     "output_type": "execute_result"
    }
   ],
   "source": [
    "pd.DataFrame(result['nodes'])"
   ]
  },
  {
   "cell_type": "code",
   "execution_count": null,
   "metadata": {},
   "outputs": [
    {
     "data": {
      "text/html": [
       "<div>\n",
       "<style scoped>\n",
       "    .dataframe tbody tr th:only-of-type {\n",
       "        vertical-align: middle;\n",
       "    }\n",
       "\n",
       "    .dataframe tbody tr th {\n",
       "        vertical-align: top;\n",
       "    }\n",
       "\n",
       "    .dataframe thead th {\n",
       "        text-align: right;\n",
       "    }\n",
       "</style>\n",
       "<table border=\"1\" class=\"dataframe\">\n",
       "  <thead>\n",
       "    <tr style=\"text-align: right;\">\n",
       "      <th></th>\n",
       "      <th>type</th>\n",
       "      <th>start_identifier</th>\n",
       "      <th>start_name</th>\n",
       "      <th>end_identifier</th>\n",
       "      <th>end_name</th>\n",
       "      <th>license</th>\n",
       "      <th>unbiased</th>\n",
       "      <th>source</th>\n",
       "      <th>version</th>\n",
       "    </tr>\n",
       "  </thead>\n",
       "  <tbody>\n",
       "    <tr>\n",
       "      <th>0</th>\n",
       "      <td>PARTICIPATES_GpBP</td>\n",
       "      <td>4358</td>\n",
       "      <td>MPV17</td>\n",
       "      <td>GO:0000002</td>\n",
       "      <td>mitochondrial genome maintenance</td>\n",
       "      <td>CC By 4.0</td>\n",
       "      <td>False</td>\n",
       "      <td>NCBI gene2go</td>\n",
       "      <td>2021-02-01</td>\n",
       "    </tr>\n",
       "    <tr>\n",
       "      <th>1</th>\n",
       "      <td>PARTICIPATES_GpBP</td>\n",
       "      <td>291</td>\n",
       "      <td>SLC25A4</td>\n",
       "      <td>GO:0000002</td>\n",
       "      <td>mitochondrial genome maintenance</td>\n",
       "      <td>CC By 4.0</td>\n",
       "      <td>False</td>\n",
       "      <td>NCBI gene2go</td>\n",
       "      <td>2021-02-01</td>\n",
       "    </tr>\n",
       "    <tr>\n",
       "      <th>2</th>\n",
       "      <td>PARTICIPATES_GpBP</td>\n",
       "      <td>55186</td>\n",
       "      <td>SLC25A36</td>\n",
       "      <td>GO:0000002</td>\n",
       "      <td>mitochondrial genome maintenance</td>\n",
       "      <td>CC By 4.0</td>\n",
       "      <td>False</td>\n",
       "      <td>NCBI gene2go</td>\n",
       "      <td>2021-02-01</td>\n",
       "    </tr>\n",
       "  </tbody>\n",
       "</table>\n",
       "</div>"
      ],
      "text/plain": [
       "                type start_identifier start_name end_identifier  \\\n",
       "0  PARTICIPATES_GpBP             4358      MPV17     GO:0000002   \n",
       "1  PARTICIPATES_GpBP              291    SLC25A4     GO:0000002   \n",
       "2  PARTICIPATES_GpBP            55186   SLC25A36     GO:0000002   \n",
       "\n",
       "                           end_name    license unbiased        source  \\\n",
       "0  mitochondrial genome maintenance  CC By 4.0    False  NCBI gene2go   \n",
       "1  mitochondrial genome maintenance  CC By 4.0    False  NCBI gene2go   \n",
       "2  mitochondrial genome maintenance  CC By 4.0    False  NCBI gene2go   \n",
       "\n",
       "      version  \n",
       "0  2021-02-01  \n",
       "1  2021-02-01  \n",
       "2  2021-02-01  "
      ]
     },
     "execution_count": null,
     "metadata": {},
     "output_type": "execute_result"
    }
   ],
   "source": [
    "pd.DataFrame(result['edges'])"
   ]
  },
  {
   "cell_type": "markdown",
   "metadata": {},
   "source": [
    "## `show` example"
   ]
  },
  {
   "cell_type": "code",
   "execution_count": null,
   "metadata": {},
   "outputs": [
    {
     "data": {
      "text/plain": [
       "\"MATCH p0=(:Gene{identifier:'6932'})-[:INTERACTS_GiG3]->(:Gene{identifier:'51176'})  MATCH p1=(:Gene{identifier:'6932'})-[:INTERACTS_GiG3]->(:Gene{identifier:'8313'})-[:INTERACTS_GiG3]->(:Gene{identifier:'1499'})-[:INTERACTS_GiG3]->(:Gene{identifier:'51176'})  MATCH p2=(:Gene{identifier:'6932'})-[:INTERACTS_GiG3]->(:Gene{identifier:'4609'})-[:INTERACTS_GiG3]->(:Gene{identifier:'22943'})-[:INTERACTS_GiG3]->(:Gene{identifier:'51176'})  MATCH p3=(:Gene{identifier:'6932'})-[:INTERACTS_GiG3]->(:Gene{identifier:'4609'})-[:INTERACTS_GiG3]->(:Gene{identifier:'4353'})-[:INTERACTS_GiG3]->(:Gene{identifier:'51176'}) RETURN p0,p1,p2,p3\""
      ]
     },
     "execution_count": null,
     "metadata": {},
     "output_type": "execute_result"
    }
   ],
   "source": [
    "query=\"MATCH p0=(:Gene{identifier:'6932'})-[:INTERACTS_GiG3]->(:Gene{identifier:'51176'})  MATCH p1=(:Gene{identifier:'6932'})-[:INTERACTS_GiG3]->(:Gene{identifier:'8313'})-[:INTERACTS_GiG3]->(:Gene{identifier:'1499'})-[:INTERACTS_GiG3]->(:Gene{identifier:'51176'})  MATCH p2=(:Gene{identifier:'6932'})-[:INTERACTS_GiG3]->(:Gene{identifier:'4609'})-[:INTERACTS_GiG3]->(:Gene{identifier:'22943'})-[:INTERACTS_GiG3]->(:Gene{identifier:'51176'})  MATCH p3=(:Gene{identifier:'6932'})-[:INTERACTS_GiG3]->(:Gene{identifier:'4609'})-[:INTERACTS_GiG3]->(:Gene{identifier:'4353'})-[:INTERACTS_GiG3]->(:Gene{identifier:'51176'}) RETURN p0,p1,p2,p3\"\n",
    "query"
   ]
  },
  {
   "cell_type": "code",
   "execution_count": null,
   "metadata": {},
   "outputs": [
    {
     "data": {
      "application/vnd.jupyter.widget-view+json": {
       "model_id": "a9bded27caa0442a862975c62da95856",
       "version_major": 2,
       "version_minor": 0
      },
      "text/plain": [
       "CytoscapeWidget(cytoscape_layout={'name': 'cola'}, cytoscape_style=[{'selector': 'node', 'style': {'label': 'd…"
      ]
     },
     "metadata": {},
     "output_type": "display_data"
    }
   ],
   "source": [
    "client.show(query)"
   ]
  },
  {
   "cell_type": "code",
   "execution_count": null,
   "metadata": {},
   "outputs": [],
   "source": []
  }
 ],
 "metadata": {
  "kernelspec": {
   "display_name": "Python 3 (ipykernel)",
   "language": "python",
   "name": "python3"
  }
 },
 "nbformat": 4,
 "nbformat_minor": 2
}
