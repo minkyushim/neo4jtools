{
 "cells": [
  {
   "cell_type": "code",
   "execution_count": null,
   "metadata": {},
   "outputs": [],
   "source": [
    "# default_exp dwpc"
   ]
  },
  {
   "cell_type": "markdown",
   "metadata": {},
   "source": [
    "# DWPC\n",
    "\n",
    "> DWPC calculation"
   ]
  },
  {
   "cell_type": "code",
   "execution_count": null,
   "metadata": {},
   "outputs": [],
   "source": [
    "#hide\n",
    "from nbdev.showdoc import *\n",
    "from neo4jtools import SimpleNeo4jHTTPAPIClient"
   ]
  },
  {
   "cell_type": "code",
   "execution_count": null,
   "metadata": {},
   "outputs": [],
   "source": [
    "#export\n",
    "def make_dwpc_query(genes, reltype, hops, dwpc_score_prop_name='dwpc_score', only_relations_with_pmid=False):\n",
    "    '''\n",
    "    Make a cypher query to calculate DWPC \n",
    "    \n",
    "    input parameters\n",
    "    \n",
    "    genes : gene list\n",
    "    reltype : edge type\n",
    "    hops : number of hops to calculate\n",
    "    dwpc_score_prop_name : name of dwpc score property, default dwpc_score\n",
    "    only_relations_with_pmid : include only relations with pubmed_id\n",
    "    \n",
    "    output\n",
    "    query:string\n",
    "    '''\n",
    "    qry_template=\"\"\"MATCH p=(n0:Gene)-[:{reltype}*..{hops}]->(n1:Gene) \n",
    "    WHERE n0.name in {genestr}\n",
    "      AND n1.name in {genestr}\n",
    "      AND n0 <> n1\n",
    "      {conditionstr}\n",
    "    WITH \n",
    "        n0.name as source_name\n",
    "      , n1.name as target_name\n",
    "      , p as path\n",
    "      , [r in relationships(p)|r.{dwpc_score_prop_name}] as dwpc_scores\n",
    "      , [r in relationships(p) | r.pubmed_id] as pubmed_ids\n",
    "    WITH \n",
    "        source_name\n",
    "      , target_name\n",
    "      , length(path) as len\n",
    "      , reduce(acc=1, d in dwpc_scores|acc*d) as dwpc_score\n",
    "      , [n IN nodes(path) | labels(n)[0]] as node_labels\n",
    "      , [n IN nodes(path) | n.identifier] as node_identifiers\n",
    "      , [r IN relationships(path) | type(r)] as rel_types\n",
    "      , reduce(acc='', s in pubmed_ids | acc+';'+s) as pubmed_ids\n",
    "    WITH \n",
    "        source_name\n",
    "      , target_name\n",
    "      , dwpc_score as dwpc\n",
    "      , [r IN rel_types | split(r, '_')[1]] as rtypes\n",
    "      , \"(:\"+node_labels[0]+\"{{identifier:'\"+ node_identifiers[0] +\"'}})\" as head\n",
    "      , [i IN range(0,len-1)| \"-[:\"+ rel_types[i] +\"]->(:\"+node_labels[i+1]+\"{{identifier:'\"+ node_identifiers[i+1] +\"'}})\" ] as tail\n",
    "      , substring(pubmed_ids,1) as pubmed_ids\n",
    "    RETURN \n",
    "        source_name\n",
    "      , target_name\n",
    "      , dwpc\n",
    "      , head + reduce(acc='', s in tail |acc+s) as pattern\n",
    "      , reduce(acc='', s IN rtypes | acc + s) as type_pattern\n",
    "      , pubmed_ids\n",
    "    \"\"\"\n",
    "    only_if_pubmed_id_exists=\"AND all(r IN relationships(p) WHERE exists(r.pubmed_id)) \"\n",
    "\n",
    "    genelist_str=\"{}{}{}\".format(\"['\", \"','\".join(genes), \"']\")\n",
    "    \n",
    "    conditionstr=''\n",
    "    if only_relations_with_pmid:\n",
    "        conditionstr=conditionstr + only_if_pubmed_id_exists\n",
    "\n",
    "    qry=qry_template.format(genestr=genelist_str, \n",
    "                            reltype=reltype, \n",
    "                            hops=hops, \n",
    "                            dwpc_score_prop_name=dwpc_score_prop_name,\n",
    "                            conditionstr=conditionstr)\n",
    "    return qry\n",
    "\n",
    "\n",
    "def patterns_to_query(patterns):\n",
    "    '''\n",
    "    Convert pattern list to cypher query\n",
    "    \n",
    "    Example\n",
    "    \n",
    "    input patterns:list:\n",
    "    \n",
    "    [\"(:Gene{identifier:'2534'})-[:INTERACTS_GiG3]->(:Gene{identifier:'201633'})\",\n",
    "    \"(:Gene{identifier:'2534'})-[:INTERACTS_GiG3]->(:Gene{identifier:'2533'})-[:INTERACTS_GiG3]->(:Gene{identifier:'2534'})-[:INTERACTS_GiG3]->(:Gene{identifier:'201633'})\",\n",
    "    \"(:Gene{identifier:'2534'})-[:INTERACTS_GiG3]->(:Gene{identifier:'7827'})-[:INTERACTS_GiG3]->(:Gene{identifier:'2534'})-[:INTERACTS_GiG3]->(:Gene{identifier:'201633'})\",\n",
    "    \"(:Gene{identifier:'2534'})-[:INTERACTS_GiG3]->(:Gene{identifier:'55243'})-[:INTERACTS_GiG3]->(:Gene{identifier:'2534'})-[:INTERACTS_GiG3]->(:Gene{identifier:'201633'})\"]\n",
    "    \n",
    "    output query:string\n",
    "    \"MATCH p0=(:Gene{identifier:'2534'})-[:INTERACTS_GiG3]->(:Gene{identifier:'201633'})  \n",
    "    MATCH p1=(:Gene{identifier:'2534'})-[:INTERACTS_GiG3]->(:Gene{identifier:'2533'})-[:INTERACTS_GiG3]->(:Gene{identifier:'2534'})-[:INTERACTS_GiG3]->(:Gene{identifier:'201633'})  \n",
    "    MATCH p2=(:Gene{identifier:'2534'})-[:INTERACTS_GiG3]->(:Gene{identifier:'7827'})-[:INTERACTS_GiG3]->(:Gene{identifier:'2534'})-[:INTERACTS_GiG3]->(:Gene{identifier:'201633'})  \n",
    "    MATCH p3=(:Gene{identifier:'2534'})-[:INTERACTS_GiG3]->(:Gene{identifier:'55243'})-[:INTERACTS_GiG3]->(:Gene{identifier:'2534'})-[:INTERACTS_GiG3]->(:Gene{identifier:'201633'}) \n",
    "    RETURN p0,p1,p2,p3\"\n",
    "    '''\n",
    "    match_phrases=[]\n",
    "    for i, pattern in enumerate(patterns):\n",
    "        match_phrases.append('MATCH p{i}={pattern} '.format(i=i, pattern=pattern))\n",
    "    \n",
    "    return_phrase='RETURN ' + ','.join([\"p{}\".format(i) for i in range(len(patterns))])\n",
    "    \n",
    "    query= ' '.join(match_phrases) + return_phrase\n",
    "    \n",
    "    return query"
   ]
  },
  {
   "cell_type": "markdown",
   "metadata": {},
   "source": [
    "# Tests"
   ]
  },
  {
   "cell_type": "markdown",
   "metadata": {},
   "source": [
    "## Test `make_dwpc_query` "
   ]
  },
  {
   "cell_type": "code",
   "execution_count": null,
   "metadata": {},
   "outputs": [],
   "source": [
    "genes=['LEF1','TCF7','SERINC5']\n",
    "reltype='INTERACTS_GiG3'\n",
    "hops=2"
   ]
  },
  {
   "cell_type": "code",
   "execution_count": null,
   "metadata": {},
   "outputs": [
    {
     "name": "stdout",
     "output_type": "stream",
     "text": [
      "MATCH p=(n0:Gene)-[:INTERACTS_GiG3|INTERACTS_GiG3*..2]->(n1:Gene) \n",
      "    WHERE n0.name in ['LEF1','TCF7','SERINC5']\n",
      "      AND n1.name in ['LEF1','TCF7','SERINC5']\n",
      "      AND n0 <> n1\n",
      "      \n",
      "    WITH \n",
      "        n0.name as source_name\n",
      "      , n1.name as target_name\n",
      "      , p as path\n",
      "      , [r in relationships(p)|r.dwpc_score] as dwpc_scores\n",
      "      , [r in relationships(p) | r.pubmed_id] as pubmed_ids\n",
      "    WITH \n",
      "        source_name\n",
      "      , target_name\n",
      "      , length(path) as len\n",
      "      , reduce(acc=1, d in dwpc_scores|acc*d) as dwpc_score\n",
      "      , [n IN nodes(path) | labels(n)[0]] as node_labels\n",
      "      , [n IN nodes(path) | n.identifier] as node_identifiers\n",
      "      , [r IN relationships(path) | type(r)] as rel_types\n",
      "      , reduce(acc='', s in pubmed_ids | acc+';'+s) as pubmed_ids\n",
      "    WITH \n",
      "        source_name\n",
      "      , target_name\n",
      "      , dwpc_score as dwpc\n",
      "      , [r IN rel_types | split(r, '_')[1]] as rtypes\n",
      "      , \"(:\"+node_labels[0]+\"{identifier:'\"+ node_identifiers[0] +\"'})\" as head\n",
      "      , [i IN range(0,len-1)| \"-[:\"+ rel_types[i] +\"]->(:\"+node_labels[i+1]+\"{identifier:'\"+ node_identifiers[i+1] +\"'})\" ] as tail\n",
      "      , substring(pubmed_ids,1) as pubmed_ids\n",
      "    RETURN \n",
      "        source_name\n",
      "      , target_name\n",
      "      , dwpc\n",
      "      , head + reduce(acc='', s in tail |acc+s) as pattern\n",
      "      , reduce(acc='', s IN rtypes | acc + s) as type_pattern\n",
      "      , pubmed_ids\n",
      "    \n"
     ]
    }
   ],
   "source": [
    "query=make_dwpc_query(genes, reltype, hops)\n",
    "print(query)"
   ]
  },
  {
   "cell_type": "code",
   "execution_count": null,
   "metadata": {},
   "outputs": [],
   "source": [
    "genes=['LEF1','TCF7','SERINC5']\n",
    "reltype='INTERACTS_GiG3|INTERACTS_GiG3'\n",
    "hops=2"
   ]
  },
  {
   "cell_type": "code",
   "execution_count": null,
   "metadata": {},
   "outputs": [
    {
     "name": "stdout",
     "output_type": "stream",
     "text": [
      "MATCH p=(n0:Gene)-[:INTERACTS_GiG3|INTERACTS_GiG3*..2]->(n1:Gene) \n",
      "    WHERE n0.name in ['LEF1','TCF7','SERINC5']\n",
      "      AND n1.name in ['LEF1','TCF7','SERINC5']\n",
      "      AND n0 <> n1\n",
      "      \n",
      "    WITH \n",
      "        n0.name as source_name\n",
      "      , n1.name as target_name\n",
      "      , p as path\n",
      "      , [r in relationships(p)|r.dwpc_score] as dwpc_scores\n",
      "      , [r in relationships(p) | r.pubmed_id] as pubmed_ids\n",
      "    WITH \n",
      "        source_name\n",
      "      , target_name\n",
      "      , length(path) as len\n",
      "      , reduce(acc=1, d in dwpc_scores|acc*d) as dwpc_score\n",
      "      , [n IN nodes(path) | labels(n)[0]] as node_labels\n",
      "      , [n IN nodes(path) | n.identifier] as node_identifiers\n",
      "      , [r IN relationships(path) | type(r)] as rel_types\n",
      "      , reduce(acc='', s in pubmed_ids | acc+';'+s) as pubmed_ids\n",
      "    WITH \n",
      "        source_name\n",
      "      , target_name\n",
      "      , dwpc_score as dwpc\n",
      "      , [r IN rel_types | split(r, '_')[1]] as rtypes\n",
      "      , \"(:\"+node_labels[0]+\"{identifier:'\"+ node_identifiers[0] +\"'})\" as head\n",
      "      , [i IN range(0,len-1)| \"-[:\"+ rel_types[i] +\"]->(:\"+node_labels[i+1]+\"{identifier:'\"+ node_identifiers[i+1] +\"'})\" ] as tail\n",
      "      , substring(pubmed_ids,1) as pubmed_ids\n",
      "    RETURN \n",
      "        source_name\n",
      "      , target_name\n",
      "      , dwpc\n",
      "      , head + reduce(acc='', s in tail |acc+s) as pattern\n",
      "      , reduce(acc='', s IN rtypes | acc + s) as type_pattern\n",
      "      , pubmed_ids\n",
      "    \n"
     ]
    }
   ],
   "source": [
    "query=make_dwpc_query(genes, reltype, hops)\n",
    "print(query)"
   ]
  },
  {
   "cell_type": "code",
   "execution_count": null,
   "metadata": {},
   "outputs": [
    {
     "data": {
      "text/plain": [
       "{\"classname\": \"SimpleNeo4jHTTPAPIClient\", \"url\": \"http://localhost:7474\", \"neo4j_version\": \"4.4.3\", \"neo4j_edition\": \"community\", \"db\": \"neo4j\", \"auth\": false}"
      ]
     },
     "execution_count": null,
     "metadata": {},
     "output_type": "execute_result"
    }
   ],
   "source": [
    "client=SimpleNeo4jHTTPAPIClient('http://localhost:7474')\n",
    "client"
   ]
  },
  {
   "cell_type": "code",
   "execution_count": null,
   "metadata": {},
   "outputs": [],
   "source": [
    "result=client.execute_read_query(query)"
   ]
  },
  {
   "cell_type": "code",
   "execution_count": null,
   "metadata": {},
   "outputs": [],
   "source": [
    "assert result['results'][0]['data'], 'The DWPC query is not working.'"
   ]
  },
  {
   "cell_type": "markdown",
   "metadata": {},
   "source": [
    "## Test `patterns_to_query`"
   ]
  },
  {
   "cell_type": "code",
   "execution_count": null,
   "metadata": {},
   "outputs": [
    {
     "data": {
      "text/plain": [
       "[\"(:Gene{identifier:'2534'})-[:INTERACTS_GiG3]->(:Gene{identifier:'201633'})\",\n",
       " \"(:Gene{identifier:'2534'})-[:INTERACTS_GiG3]->(:Gene{identifier:'2533'})-[:INTERACTS_GiG3]->(:Gene{identifier:'2534'})-[:INTERACTS_GiG3]->(:Gene{identifier:'201633'})\",\n",
       " \"(:Gene{identifier:'2534'})-[:INTERACTS_GiG3]->(:Gene{identifier:'7827'})-[:INTERACTS_GiG3]->(:Gene{identifier:'2534'})-[:INTERACTS_GiG3]->(:Gene{identifier:'201633'})\",\n",
       " \"(:Gene{identifier:'2534'})-[:INTERACTS_GiG3]->(:Gene{identifier:'55243'})-[:INTERACTS_GiG3]->(:Gene{identifier:'2534'})-[:INTERACTS_GiG3]->(:Gene{identifier:'201633'})\"]"
      ]
     },
     "execution_count": null,
     "metadata": {},
     "output_type": "execute_result"
    }
   ],
   "source": [
    "patterns=[\"(:Gene{identifier:'2534'})-[:INTERACTS_GiG3]->(:Gene{identifier:'201633'})\",\n",
    "    \"(:Gene{identifier:'2534'})-[:INTERACTS_GiG3]->(:Gene{identifier:'2533'})-[:INTERACTS_GiG3]->(:Gene{identifier:'2534'})-[:INTERACTS_GiG3]->(:Gene{identifier:'201633'})\",\n",
    "    \"(:Gene{identifier:'2534'})-[:INTERACTS_GiG3]->(:Gene{identifier:'7827'})-[:INTERACTS_GiG3]->(:Gene{identifier:'2534'})-[:INTERACTS_GiG3]->(:Gene{identifier:'201633'})\",\n",
    "    \"(:Gene{identifier:'2534'})-[:INTERACTS_GiG3]->(:Gene{identifier:'55243'})-[:INTERACTS_GiG3]->(:Gene{identifier:'2534'})-[:INTERACTS_GiG3]->(:Gene{identifier:'201633'})\"]\n",
    "patterns"
   ]
  },
  {
   "cell_type": "code",
   "execution_count": null,
   "metadata": {},
   "outputs": [
    {
     "data": {
      "text/plain": [
       "\"MATCH p0=(:Gene{identifier:'2534'})-[:INTERACTS_GiG3]->(:Gene{identifier:'201633'})  MATCH p1=(:Gene{identifier:'2534'})-[:INTERACTS_GiG3]->(:Gene{identifier:'2533'})-[:INTERACTS_GiG3]->(:Gene{identifier:'2534'})-[:INTERACTS_GiG3]->(:Gene{identifier:'201633'})  MATCH p2=(:Gene{identifier:'2534'})-[:INTERACTS_GiG3]->(:Gene{identifier:'7827'})-[:INTERACTS_GiG3]->(:Gene{identifier:'2534'})-[:INTERACTS_GiG3]->(:Gene{identifier:'201633'})  MATCH p3=(:Gene{identifier:'2534'})-[:INTERACTS_GiG3]->(:Gene{identifier:'55243'})-[:INTERACTS_GiG3]->(:Gene{identifier:'2534'})-[:INTERACTS_GiG3]->(:Gene{identifier:'201633'}) RETURN p0,p1,p2,p3\""
      ]
     },
     "execution_count": null,
     "metadata": {},
     "output_type": "execute_result"
    }
   ],
   "source": [
    "query=patterns_to_query(patterns)\n",
    "query"
   ]
  },
  {
   "cell_type": "code",
   "execution_count": null,
   "metadata": {},
   "outputs": [],
   "source": [
    "assert client.execute_read_query(query)['results'][0]['data'], 'Converted query from patterns is not working.'"
   ]
  },
  {
   "cell_type": "code",
   "execution_count": null,
   "metadata": {},
   "outputs": [],
   "source": []
  }
 ],
 "metadata": {
  "kernelspec": {
   "display_name": "Python 3 (ipykernel)",
   "language": "python",
   "name": "python3"
  }
 },
 "nbformat": 4,
 "nbformat_minor": 2
}
